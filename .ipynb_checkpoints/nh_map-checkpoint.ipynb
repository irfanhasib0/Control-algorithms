{
 "cells": [
  {
   "cell_type": "code",
   "execution_count": 1,
   "metadata": {},
   "outputs": [
    {
     "name": "stdout",
     "output_type": "stream",
     "text": [
      "pretrain_model_weights.h5 reward_points.txt         road_lines.txt\r\n"
     ]
    }
   ],
   "source": [
    "!cd data && ls"
   ]
  },
  {
   "cell_type": "code",
   "execution_count": 2,
   "metadata": {
    "collapsed": true
   },
   "outputs": [],
   "source": [
    "from matplotlib import pyplot as plt\n",
    "import numpy as np\n",
    "# Reads in the reward function lines\n",
    "def init_reward_points():\n",
    "    road_points = []\n",
    "    with open('data/reward_points.txt', 'r') as f:\n",
    "        for line in f:\n",
    "            point_values = line.split('\\t')\n",
    "            first_point = np.array([float(point_values[0]), float(point_values[1]), 0])\n",
    "            second_point = np.array([float(point_values[2]), float(point_values[3]), 0])\n",
    "            road_points.append(tuple((first_point, second_point)))\n",
    "\n",
    "    return road_points\n",
    "\n",
    "#Draws the car location plot\n",
    "def draw_rl_debug(car_state, road_points):\n",
    "    fig = plt.figure(figsize=(15,15))\n",
    "    print('')\n",
    "    for point in road_points:\n",
    "        plt.plot([point[0][0], point[1][0]], [point[0][1], point[1][1]], 'k-', lw=2)\n",
    "    \n",
    "    position_key = bytes('position', encoding='utf8')\n",
    "    x_val_key = bytes('x_val', encoding='utf8')\n",
    "    y_val_key = bytes('y_val', encoding='utf8')\n",
    "    \n",
    "    #car_point = np.array([car_state.kinematics_true[position_key][x_val_key], car_state.kinematics_true[position_key][y_val_key], 0])\n",
    "    #plt.plot([car_point[0]], [car_point[1]], 'bo')\n",
    "    \n",
    "    plt.show()\n",
    "    \n",
    "reward_points = init_reward_points()"
   ]
  },
  {
   "cell_type": "code",
   "execution_count": 10,
   "metadata": {},
   "outputs": [
    {
     "name": "stdout",
     "output_type": "stream",
     "text": [
      "\n"
     ]
    },
    {
     "data": {
      "image/png": "[encoded data removed]",
      "text/plain": [
       "<Figure size 1080x1080 with 1 Axes>"
      ]
     },
     "metadata": {
      "needs_background": "light"
     },
     "output_type": "display_data"
    },
    {
     "data": {
      "text/plain": [
       "array([0., 0., 0.])"
      ]
     },
     "execution_count": 10,
     "metadata": {},
     "output_type": "execute_result"
    }
   ],
   "source": [
    "pt=reward_points[:50]-reward_points[0][0]\n",
    "draw_rl_debug(None,pt[:10])\n",
    "pt[0][0]"
   ]
  },
  {
   "cell_type": "code",
   "execution_count": 11,
   "metadata": {},
   "outputs": [
    {
     "data": {
      "text/plain": [
       "array([[[  0. ,   0. ,   0. ],\n",
       "        [119. ,   0. ,   0. ]],\n",
       "\n",
       "       [[127.3,   0. ,   0. ],\n",
       "        [199.3,   0. ,   0. ]],\n",
       "\n",
       "       [[207.6,   0. ,   0. ],\n",
       "        [246.6,   0. ,   0. ]],\n",
       "\n",
       "       [[ -4. ,   4. ,   0. ],\n",
       "        [ -4. , 123. ,   0. ]],\n",
       "\n",
       "       [[123.3,   4. ,   0. ],\n",
       "        [123.3, 123. ,   0. ]],\n",
       "\n",
       "       [[203.6,   4. ,   0. ],\n",
       "        [203.6, 123. ,   0. ]]])"
      ]
     },
     "execution_count": 11,
     "metadata": {},
     "output_type": "execute_result"
    }
   ],
   "source": [
    "pt[:6]"
   ]
  },
  {
   "cell_type": "code",
   "execution_count": 9,
   "metadata": {},
   "outputs": [
    {
     "data": {
      "text/plain": [
       "72"
      ]
     },
     "execution_count": 9,
     "metadata": {},
     "output_type": "execute_result"
    }
   ],
   "source": [
    "199-127"
   ]
  },
  {
   "cell_type": "code",
   "execution_count": 113,
   "metadata": {
    "collapsed": true
   },
   "outputs": [],
   "source": [
    "X1=0\n",
    "X2=131\n",
    "Y1=0\n",
    "Y2=127\n",
    "n=15\n",
    "points=[[X1,Y1], [X2-n,Y1],[X2,n], [X2,Y2-n],[X2-n,Y2], [n,Y2],[X1,Y2-n], [X1,Y1]]\n",
    "#points=[[0,0],[115,0],[130,15],[130,115],[115,130],[15,130],[0,115],[0,0]]\n",
    "pts=np.array(points)"
   ]
  },
  {
   "cell_type": "code",
   "execution_count": 114,
   "metadata": {},
   "outputs": [
    {
     "data": {
      "text/plain": [
       "array([[  0,   0],\n",
       "       [116,   0],\n",
       "       [131,  15],\n",
       "       [131, 112],\n",
       "       [116, 127],\n",
       "       [ 15, 127],\n",
       "       [  0, 112],\n",
       "       [  0,   0]])"
      ]
     },
     "execution_count": 114,
     "metadata": {},
     "output_type": "execute_result"
    }
   ],
   "source": [
    "pts"
   ]
  },
  {
   "cell_type": "code",
   "execution_count": 115,
   "metadata": {},
   "outputs": [
    {
     "data": {
      "image/png": "[encoded data removed]",
      "text/plain": [
       "<Figure size 432x288 with 1 Axes>"
      ]
     },
     "metadata": {
      "needs_background": "light"
     },
     "output_type": "display_data"
    }
   ],
   "source": [
    "from matplotlib import pyplot as plt\n",
    "plt.plot(pts[:,0],pts[:,1])\n",
    "plt.show()"
   ]
  },
  {
   "cell_type": "code",
   "execution_count": 104,
   "metadata": {
    "collapsed": true
   },
   "outputs": [],
   "source": [
    "points=[]\n",
    "for i in range(len(pts)-1):\n",
    "    dist=np.sqrt(pts[i][0]**2+pts[i][1]**2)-np.sqrt(pts[i+1][0]**2+pts[i+1][1]**2)\n",
    "    X1=pts[i,0]\n",
    "    X2=pts[i+1,0]\n",
    "    \n",
    "    Y1=pts[i,1]\n",
    "    Y2=pts[i+1,1]\n",
    "    #points.append()\n",
    "    if X1!=X2 :\n",
    "        Xs=np.linspace(X1,X2,abs(X2-X1)+1)\n",
    "    else :\n",
    "        Xs=np.ones(abs(Y1-Y2)+1,dtype=np.float64)*X1\n",
    "    if Y1 !=Y2 :\n",
    "        Ys=np.linspace(Y1,Y2,abs(Y2-Y1)+1)\n",
    "    else:\n",
    "        Ys=np.ones(abs(X1-X2)+1,dtype=np.float64)*Y1\n",
    "    points+=[[x,y] for x,y in zip(Xs,Ys)]\n",
    "    \n",
    "points=np.array(points)\n"
   ]
  },
  {
   "cell_type": "code",
   "execution_count": 105,
   "metadata": {},
   "outputs": [
    {
     "data": {
      "image/png": "[encoded data removed]",
      "text/plain": [
       "<Figure size 432x288 with 1 Axes>"
      ]
     },
     "metadata": {
      "needs_background": "light"
     },
     "output_type": "display_data"
    }
   ],
   "source": [
    "plt.plot(points[:,0],points[:,1])\n",
    "plt.show()"
   ]
  },
  {
   "cell_type": "code",
   "execution_count": 107,
   "metadata": {},
   "outputs": [
    {
     "data": {
      "text/plain": [
       "478"
      ]
     },
     "execution_count": 107,
     "metadata": {},
     "output_type": "execute_result"
    }
   ],
   "source": [
    "len(points)"
   ]
  },
  {
   "cell_type": "code",
   "execution_count": 109,
   "metadata": {},
   "outputs": [
    {
     "data": {
      "text/plain": [
       "514"
      ]
     },
     "execution_count": 109,
     "metadata": {},
     "output_type": "execute_result"
    }
   ],
   "source": []
  },
  {
   "cell_type": "code",
   "execution_count": null,
   "metadata": {
    "collapsed": true
   },
   "outputs": [],
   "source": []
  }
 ],
 "metadata": {
  "kernelspec": {
   "display_name": "Python 3",
   "language": "python",
   "name": "python3"
  },
  "language_info": {
   "codemirror_mode": {
    "name": "ipython",
    "version": 3
   },
   "file_extension": ".py",
   "mimetype": "text/x-python",
   "name": "python",
   "nbconvert_exporter": "python",
   "pygments_lexer": "ipython3",
   "version": "3.6.2"
  }
 },
 "nbformat": 4,
 "nbformat_minor": 4
}
