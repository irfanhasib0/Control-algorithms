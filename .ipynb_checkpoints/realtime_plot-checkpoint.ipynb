{
 "cells": [
  {
   "cell_type": "code",
   "execution_count": null,
   "metadata": {},
   "outputs": [],
   "source": [
    "from matplotlib import pyplot as plt\n",
    "import time\n",
    "import numpy as np\n",
    "%matplotlib notebook\n",
    "X=np.arange((64),dtype=np.uint8)\n",
    "Y=X.copy()\n",
    "\n",
    "\n",
    "fig, ax = plt.subplots(nrows=1,ncols=1)\n",
    "plt.ion()\n",
    "fig.show()\n",
    "\n",
    "for i in range(10):\n",
    "    time.sleep(1)\n",
    "    Y+=2\n",
    "    ax.clear()\n",
    "    ax.plot(Y)\n",
    "    #ax.plot(v_loss[-100:])\n",
    "    fig.canvas.draw()\n",
    "    \n",
    "    \n"
   ]
  },
  {
   "cell_type": "code",
   "execution_count": null,
   "metadata": {},
   "outputs": [],
   "source": []
  },
  {
   "cell_type": "code",
   "execution_count": null,
   "metadata": {},
   "outputs": [],
   "source": [
    "from matplotlib import pyplot as plt\n",
    "import time\n",
    "import numpy as np\n",
    "%matplotlib tk\n",
    "X=np.arange((64),dtype=np.uint8)\n",
    "Y=X.copy()\n",
    "\n",
    "for i in range(10):\n",
    "    time.sleep(1)\n",
    "    Y+=2\n",
    "    plt.cla()\n",
    "    plt.plot(Y)\n",
    "    plt.show()\n",
    "    plt.pause(0.001)\n",
    "    #ax.plot(v_loss[-100:])\n",
    "    \n",
    "    "
   ]
  }
 ],
 "metadata": {
  "kernelspec": {
   "display_name": "Python 3",
   "language": "python",
   "name": "python3"
  },
  "language_info": {
   "codemirror_mode": {
    "name": "ipython",
    "version": 3
   },
   "file_extension": ".py",
   "mimetype": "text/x-python",
   "name": "python",
   "nbconvert_exporter": "python",
   "pygments_lexer": "ipython3",
   "version": "3.6.8"
  }
 },
 "nbformat": 4,
 "nbformat_minor": 2
}
