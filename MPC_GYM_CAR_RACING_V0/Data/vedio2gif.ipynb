{
 "cells": [
  {
   "cell_type": "code",
   "execution_count": 1,
   "metadata": {},
   "outputs": [
    {
     "name": "stderr",
     "output_type": "stream",
     "text": [
      "t:   0%|▎                                                                    | 3/640 [00:00<00:37, 17.12it/s, now=None]"
     ]
    },
    {
     "name": "stdout",
     "output_type": "stream",
     "text": [
      "MoviePy - Building file airsim.gif with imageio.\n"
     ]
    },
    {
     "name": "stderr",
     "output_type": "stream",
     "text": [
      "                                                                                                                       \r"
     ]
    }
   ],
   "source": [
    "import cv2\n",
    "from moviepy.editor import *\n",
    "\n",
    "clip = (VideoFileClip(\"as7_rec.avi\")\n",
    "        .subclip((0,0),(1,260))\n",
    "        .resize(0.5)\n",
    "        .speedx(10))\n",
    "clip.write_gif(\"airsim.gif\")"
   ]
  },
  {
   "cell_type": "code",
   "execution_count": 2,
   "metadata": {},
   "outputs": [
    {
     "name": "stderr",
     "output_type": "stream",
     "text": [
      "t:   1%|▌                                                                    | 2/225 [00:00<00:16, 13.88it/s, now=None]"
     ]
    },
    {
     "name": "stdout",
     "output_type": "stream",
     "text": [
      "MoviePy - Building file airsim_cs.gif with imageio.\n"
     ]
    },
    {
     "name": "stderr",
     "output_type": "stream",
     "text": [
      "                                                                                                                       \r"
     ]
    }
   ],
   "source": [
    "import cv2\n",
    "from moviepy.editor import *\n",
    "\n",
    "clip = (VideoFileClip(\"city_ilqr.avi\")\n",
    "        #.subclip((0,0),(1,260))\n",
    "        .resize(0.5)\n",
    "        .speedx(10))\n",
    "clip.write_gif(\"airsim_cs.gif\")"
   ]
  },
  {
   "cell_type": "code",
   "execution_count": null,
   "metadata": {},
   "outputs": [],
   "source": []
  }
 ],
 "metadata": {
  "kernelspec": {
   "display_name": "Python 3",
   "language": "python",
   "name": "python3"
  },
  "language_info": {
   "codemirror_mode": {
    "name": "ipython",
    "version": 3
   },
   "file_extension": ".py",
   "mimetype": "text/x-python",
   "name": "python",
   "nbconvert_exporter": "python",
   "pygments_lexer": "ipython3",
   "version": "3.6.9"
  }
 },
 "nbformat": 4,
 "nbformat_minor": 2
}
