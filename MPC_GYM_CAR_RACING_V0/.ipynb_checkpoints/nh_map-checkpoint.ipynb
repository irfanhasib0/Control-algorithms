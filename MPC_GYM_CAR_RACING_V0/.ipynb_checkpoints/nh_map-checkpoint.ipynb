{
 "cells": [
  {
   "cell_type": "code",
   "execution_count": 5,
   "metadata": {},
   "outputs": [
    {
     "name": "stdout",
     "output_type": "stream",
     "text": [
      "pretrain_model_weights.h5 reward_points.txt         road_lines.txt\n"
     ]
    }
   ],
   "source": [
    "!cd data && ls"
   ]
  },
  {
   "cell_type": "code",
   "execution_count": 37,
   "metadata": {
    "collapsed": true
   },
   "outputs": [],
   "source": [
    "from matplotlib import pyplot as plt\n",
    "import numpy as np\n",
    "# Reads in the reward function lines\n",
    "def init_reward_points():\n",
    "    road_points = []\n",
    "    with open('data/reward_points.txt', 'r') as f:\n",
    "        for line in f:\n",
    "            point_values = line.split('\\t')\n",
    "            first_point = np.array([float(point_values[0]), float(point_values[1]), 0])\n",
    "            second_point = np.array([float(point_values[2]), float(point_values[3]), 0])\n",
    "            road_points.append(tuple((first_point, second_point)))\n",
    "\n",
    "    return road_points\n",
    "\n",
    "#Draws the car location plot\n",
    "def draw_rl_debug(car_state, road_points):\n",
    "    fig = plt.figure(figsize=(15,15))\n",
    "    print('')\n",
    "    for point in road_points:\n",
    "        plt.plot([point[0][0], point[1][0]], [point[0][1], point[1][1]], 'k-', lw=2)\n",
    "    \n",
    "    position_key = bytes('position', encoding='utf8')\n",
    "    x_val_key = bytes('x_val', encoding='utf8')\n",
    "    y_val_key = bytes('y_val', encoding='utf8')\n",
    "    \n",
    "    #car_point = np.array([car_state.kinematics_true[position_key][x_val_key], car_state.kinematics_true[position_key][y_val_key], 0])\n",
    "    #plt.plot([car_point[0]], [car_point[1]], 'bo')\n",
    "    \n",
    "    plt.show()\n",
    "    \n",
    "reward_points = init_reward_points()"
   ]
  },
  {
   "cell_type": "code",
   "execution_count": 45,
   "metadata": {},
   "outputs": [
    {
     "name": "stdout",
     "output_type": "stream",
     "text": [
      "\n"
     ]
    },
    {
     "data": {
      "image/png": "[encoded data removed]",
      "text/plain": [
       "<Figure size 1080x1080 with 1 Axes>"
      ]
     },
     "metadata": {
      "needs_background": "light"
     },
     "output_type": "display_data"
    },
    {
     "data": {
      "text/plain": [
       "array([0., 0., 0.])"
      ]
     },
     "execution_count": 45,
     "metadata": {},
     "output_type": "execute_result"
    }
   ],
   "source": [
    "pt=reward_points[:50]-pt[0][0]\n",
    "draw_rl_debug(None,pt)\n",
    "pt[0][0]"
   ]
  },
  {
   "cell_type": "code",
   "execution_count": 46,
   "metadata": {},
   "outputs": [
    {
     "data": {
      "text/plain": [
       "array([[[  0. ,   0. ,   0. ],\n",
       "        [119. ,   0. ,   0. ]],\n",
       "\n",
       "       [[127.3,   0. ,   0. ],\n",
       "        [199.3,   0. ,   0. ]],\n",
       "\n",
       "       [[207.6,   0. ,   0. ],\n",
       "        [246.6,   0. ,   0. ]],\n",
       "\n",
       "       [[ -4. ,   4. ,   0. ],\n",
       "        [ -4. , 123. ,   0. ]],\n",
       "\n",
       "       [[123.3,   4. ,   0. ],\n",
       "        [123.3, 123. ,   0. ]],\n",
       "\n",
       "       [[203.6,   4. ,   0. ],\n",
       "        [203.6, 123. ,   0. ]],\n",
       "\n",
       "       [[250.8,   4. ,   0. ],\n",
       "        [250.8, 123. ,   0. ]],\n",
       "\n",
       "       [[  0. , 127. ,   0. ],\n",
       "        [119. , 127. ,   0. ]],\n",
       "\n",
       "       [[127.3, 127. ,   0. ],\n",
       "        [199.3, 127. ,   0. ]],\n",
       "\n",
       "       [[207.6, 127. ,   0. ],\n",
       "        [246.6, 127. ,   0. ]],\n",
       "\n",
       "       [[ -4. , 131. ,   0. ],\n",
       "        [ -4. , 250. ,   0. ]],\n",
       "\n",
       "       [[123.3, 131. ,   0. ],\n",
       "        [123.3, 250. ,   0. ]],\n",
       "\n",
       "       [[250.8, 131. ,   0. ],\n",
       "        [250.8, 250. ,   0. ]],\n",
       "\n",
       "       [[  0. , 254.4,   0. ],\n",
       "        [119. , 254.4,   0. ]],\n",
       "\n",
       "       [[127.3, 254.4,   0. ],\n",
       "        [246.3, 254.4,   0. ]],\n",
       "\n",
       "       [[250.8, 123. ,   0. ],\n",
       "        [246.6, 127. ,   0. ]],\n",
       "\n",
       "       [[250.8, 123. ,   0. ],\n",
       "        [250.8, 131. ,   0. ]],\n",
       "\n",
       "       [[246.6, 127. ,   0. ],\n",
       "        [250.8, 131. ,   0. ]],\n",
       "\n",
       "       [[199.3,   0. ,   0. ],\n",
       "        [207.6,   0. ,   0. ]],\n",
       "\n",
       "       [[199.3,   0. ,   0. ],\n",
       "        [203.6,   4. ,   0. ]],\n",
       "\n",
       "       [[207.6,   0. ,   0. ],\n",
       "        [203.6,   4. ,   0. ]],\n",
       "\n",
       "       [[246.6,   0. ,   0. ],\n",
       "        [250.8,   4. ,   0. ]],\n",
       "\n",
       "       [[123.3, 123. ,   0. ],\n",
       "        [119. , 127. ,   0. ]],\n",
       "\n",
       "       [[123.3, 123. ,   0. ],\n",
       "        [127.3, 127. ,   0. ]],\n",
       "\n",
       "       [[123.3, 123. ,   0. ],\n",
       "        [123.3, 131. ,   0. ]],\n",
       "\n",
       "       [[119. , 127. ,   0. ],\n",
       "        [127.3, 127. ,   0. ]],\n",
       "\n",
       "       [[119. , 127. ,   0. ],\n",
       "        [123.3, 131. ,   0. ]],\n",
       "\n",
       "       [[127.3, 127. ,   0. ],\n",
       "        [123.3, 131. ,   0. ]],\n",
       "\n",
       "       [[203.6, 123. ,   0. ],\n",
       "        [199.3, 127. ,   0. ]],\n",
       "\n",
       "       [[203.6, 123. ,   0. ],\n",
       "        [207.6, 127. ,   0. ]],\n",
       "\n",
       "       [[199.3, 127. ,   0. ],\n",
       "        [207.6, 127. ,   0. ]],\n",
       "\n",
       "       [[ -4. , 250. ,   0. ],\n",
       "        [  0. , 254.4,   0. ]],\n",
       "\n",
       "       [[123.3, 250. ,   0. ],\n",
       "        [119. , 254.4,   0. ]],\n",
       "\n",
       "       [[123.3, 250. ,   0. ],\n",
       "        [127.3, 254.4,   0. ]],\n",
       "\n",
       "       [[119. , 254.4,   0. ],\n",
       "        [127.3, 254.4,   0. ]],\n",
       "\n",
       "       [[  0. ,   0. ,   0. ],\n",
       "        [ -4. ,   4. ,   0. ]],\n",
       "\n",
       "       [[250.8, 250. ,   0. ],\n",
       "        [246.3, 254.4,   0. ]],\n",
       "\n",
       "       [[119. ,   0. ,   0. ],\n",
       "        [127.3,   0. ,   0. ]],\n",
       "\n",
       "       [[119. ,   0. ,   0. ],\n",
       "        [123.3,   4. ,   0. ]],\n",
       "\n",
       "       [[127.3,   0. ,   0. ],\n",
       "        [123.3,   4. ,   0. ]],\n",
       "\n",
       "       [[ -4. , 123. ,   0. ],\n",
       "        [  0. , 127. ,   0. ]],\n",
       "\n",
       "       [[ -4. , 123. ,   0. ],\n",
       "        [ -4. , 131. ,   0. ]],\n",
       "\n",
       "       [[  0. , 127. ,   0. ],\n",
       "        [ -4. , 131. ,   0. ]]])"
      ]
     },
     "execution_count": 46,
     "metadata": {},
     "output_type": "execute_result"
    }
   ],
   "source": [
    "pt"
   ]
  },
  {
   "cell_type": "code",
   "execution_count": 17,
   "metadata": {
    "collapsed": true
   },
   "outputs": [],
   "source": [
    "import os\n",
    "os.mkdir('model')"
   ]
  }
 ],
 "metadata": {
  "kernelspec": {
   "display_name": "Python 3",
   "language": "python",
   "name": "python3"
  },
  "language_info": {
   "codemirror_mode": {
    "name": "ipython",
    "version": 3
   },
   "file_extension": ".py",
   "mimetype": "text/x-python",
   "name": "python",
   "nbconvert_exporter": "python",
   "pygments_lexer": "ipython3",
   "version": "3.6.2"
  }
 },
 "nbformat": 4,
 "nbformat_minor": 4
}
