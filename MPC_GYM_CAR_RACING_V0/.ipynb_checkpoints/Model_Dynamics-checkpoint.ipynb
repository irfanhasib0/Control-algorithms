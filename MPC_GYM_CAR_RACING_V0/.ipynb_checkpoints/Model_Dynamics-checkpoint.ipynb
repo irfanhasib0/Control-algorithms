{
 "cells": [
  {
   "cell_type": "raw",
   "metadata": {},
   "source": [
    "state=X,Y,Vx,Vy\n",
    "action=Ax,Ay\n",
    "_X=Vx\n",
    "_Y=Vy\n",
    "_Vx=Ax\n",
    "_Vy=Ay"
   ]
  },
  {
   "cell_type": "markdown",
   "metadata": {},
   "source": [
    "\n",
    "Here,\n",
    "\n",
    "$\\begin{equation*}\n",
    "Z  = [X,Y,Vx,Vy]\\\\\n",
    "U  =  [Ax,Ay]\n",
    "\\end{equation*}$\n",
    "\n",
    "\n",
    "$$ X --> \\dot{X} $$\n",
    "$$ Y --> \\dot{Y} $$\n",
    "$$ Vx --> \\dot{Vx} $$\n",
    "$$ Vy --> \\dot{Vy} $$\n",
    "\n"
   ]
  },
  {
   "cell_type": "markdown",
   "metadata": {},
   "source": [
    "Dynamics equations - \n",
    "\n",
    "$$ \\dot{X} = Vx$$\n",
    "\n",
    "$$ \\dot{Y} = Vy$$\n",
    "\n",
    "$$ \\dot{Vy} = Ax$$\n",
    "\n",
    "$$ \\dot{Vy} = Ay$$"
   ]
  },
  {
   "cell_type": "markdown",
   "metadata": {},
   "source": [
    "$\\begin{equation*}\n",
    "A' = \n",
    "\\begin{bmatrix}\n",
    "\\frac{\\partial }{\\partial x}(Vx) &&\n",
    "\\frac{\\partial }{\\partial y}(Vx) &&\n",
    "\\frac{\\partial }{\\partial Vx}(Vx) &&\n",
    "\\frac{\\partial }{\\partial Vy}(Vx) \\\\\n",
    "\\frac{\\partial }{\\partial x}(Vy) &&\n",
    "\\frac{\\partial }{\\partial y}(Vy) &&\n",
    "\\frac{\\partial }{\\partial Vx}(Vy) &&\n",
    "\\frac{\\partial }{\\partial Vy}(Vy) \\\\\n",
    "\\frac{\\partial }{\\partial x}(Ax) &&\n",
    "\\frac{\\partial }{\\partial y}(Ax) &&\n",
    "\\frac{\\partial }{\\partial Vx}(Ax) &&\n",
    "\\frac{\\partial }{\\partial Vy}(Ax) \\\\\n",
    "\\frac{\\partial }{\\partial x}(Ay) &&\n",
    "\\frac{\\partial }{\\partial y}(Ay) &&\n",
    "\\frac{\\partial }{\\partial Vx}(Ay) &&\n",
    "\\frac{\\partial }{\\partial Vy}(Ay) \\\\\n",
    "\\end{bmatrix}\n",
    "B' = \n",
    "\\begin{bmatrix}\n",
    "\\frac{\\partial }{\\partial Ax}(x) &&\n",
    "\\frac{\\partial }{\\partial Ay}(x) \\\\\n",
    "\\frac{\\partial }{\\partial Ax}(y) &&\n",
    "\\frac{\\partial }{\\partial Ay}(y) \\\\\n",
    "\\frac{\\partial }{\\partial Ax}(Ax) &&\n",
    "\\frac{\\partial }{\\partial Ay}(Ay) \\\\\n",
    "\\frac{\\partial }{\\partial Ax}(Ax) &&\n",
    "\\frac{\\partial }{\\partial Ay}(Ay) \\\\\n",
    "\\end{bmatrix}\n",
    "\\end{equation*}$"
   ]
  },
  {
   "cell_type": "markdown",
   "metadata": {},
   "source": [
    "$\\begin{equation*}\n",
    "A' = \n",
    "\\begin{bmatrix}\n",
    "0 && 0 && 1 && 0 \\\\\n",
    "0 && 0 && 0 && 1 \\\\\n",
    "0 && 0 && 0 && 0 \\\\\n",
    "0 && 0 && 0 && 0 \\\\\n",
    "\\end{bmatrix}\n",
    "B' = \n",
    "\\begin{bmatrix}\n",
    "0 && 0 \\\\\n",
    "0 && 0 \\\\\n",
    "1 && 0 \\\\\n",
    "0 && 1 \\\\\n",
    "\\end{bmatrix}\n",
    "\\end{equation*}$"
   ]
  },
  {
   "cell_type": "markdown",
   "metadata": {},
   "source": [
    "$\\begin{equation*}\n",
    "\\dot{Z} = F(Z_{k},U_{k})\n",
    "= \n",
    "\\begin{bmatrix}\n",
    "0 && 0 && 1 && 0 \\\\\n",
    "0 && 0 && 0 && 1 \\\\\n",
    "0 && 0 && 0 && 0 \\\\\n",
    "0 && 0 && 0 && 0 \\\\\n",
    "\\end{bmatrix}\n",
    "Z_{k}\n",
    "+\n",
    "\\begin{bmatrix}\n",
    "0 && 0 \\\\\n",
    "0 && 0 \\\\\n",
    "1 && 0 \\\\\n",
    "0 && 1 \\\\\n",
    "\\end{bmatrix}\n",
    "U_{k}\\\\\n",
    "Z_{k+1} = Z_{k} + F(Z_{k},U_{k})dt \n",
    "\\end{equation*}$\n"
   ]
  },
  {
   "cell_type": "markdown",
   "metadata": {},
   "source": [
    "$\\begin{equation*}\n",
    "A' = \n",
    "\\begin{bmatrix}\n",
    "0 && 0 && 1 && 0 \\\\\n",
    "0 && 0 && 0 && 1 \\\\\n",
    "0 && 0 && 0 && 0 \\\\\n",
    "0 && 0 && 0 && 0 \\\\\n",
    "\\end{bmatrix}\n",
    "B' = \n",
    "\\begin{bmatrix}\n",
    "0 && 0 \\\\\n",
    "0 && 0 \\\\\n",
    "1 && 0 \\\\\n",
    "0 && 1 \\\\\n",
    "\\end{bmatrix}\n",
    "\\end{equation*}$"
   ]
  },
  {
   "cell_type": "markdown",
   "metadata": {},
   "source": [
    "$\\begin{equation*}\n",
    "\\dot{Z}= A'Z + B'U\\\\\n",
    "Actions --->  Ax,Ay\n",
    "\\end{equation*}$"
   ]
  },
  {
   "cell_type": "code",
   "execution_count": null,
   "metadata": {},
   "outputs": [],
   "source": [
    "A=[[0, 0, 1, 0],\n",
    "   [0, 0, 0, 1],\n",
    "   [0, 0, 0, 0],\n",
    "   [0, 0, 0, 0]]\n",
    "B=[[0, 0],\n",
    "   [0, 0],\n",
    "   [0, 0],\n",
    "   [0, 0]]"
   ]
  },
  {
   "cell_type": "code",
   "execution_count": 1,
   "metadata": {},
   "outputs": [],
   "source": [
    "class test():\n",
    "    def __init__(self):\n",
    "        print('init')\n",
    "    def __del__(self):\n",
    "        print('del')"
   ]
  },
  {
   "cell_type": "code",
   "execution_count": 2,
   "metadata": {},
   "outputs": [
    {
     "name": "stdout",
     "output_type": "stream",
     "text": [
      "init\n"
     ]
    }
   ],
   "source": [
    "tt=test()"
   ]
  },
  {
   "cell_type": "code",
   "execution_count": 3,
   "metadata": {},
   "outputs": [
    {
     "name": "stdout",
     "output_type": "stream",
     "text": [
      "init\n"
     ]
    }
   ],
   "source": [
    "aa=test()"
   ]
  }
 ],
 "metadata": {
  "kernelspec": {
   "display_name": "Python 3",
   "language": "python",
   "name": "python3"
  },
  "language_info": {
   "codemirror_mode": {
    "name": "ipython",
    "version": 3
   },
   "file_extension": ".py",
   "mimetype": "text/x-python",
   "name": "python",
   "nbconvert_exporter": "python",
   "pygments_lexer": "ipython3",
   "version": "3.6.8"
  }
 },
 "nbformat": 4,
 "nbformat_minor": 4
}
