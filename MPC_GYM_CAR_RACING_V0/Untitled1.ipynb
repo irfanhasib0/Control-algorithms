{
 "cells": [
  {
   "cell_type": "code",
   "execution_count": 1,
   "metadata": {},
   "outputs": [
    {
     "name": "stdout",
     "output_type": "stream",
     "text": [
      "Connected!\n",
      "Client Ver:1 (Min Req: 1), Server Ver:1 (Min Req: 1)\n",
      "\n"
     ]
    }
   ],
   "source": [
    "#import airsim\n",
    "from Airsim_Env import Car_Env\n",
    "env=Car_Env()\n",
    "ret=env.reset()\n",
    "#ret=env.step()"
   ]
  },
  {
   "cell_type": "code",
   "execution_count": 2,
   "metadata": {},
   "outputs": [
    {
     "data": {
      "text/plain": [
       "[8.306229591369629, 0.00023071288887877017, 0.00011384012032067403]"
      ]
     },
     "execution_count": 2,
     "metadata": {},
     "output_type": "execute_result"
    }
   ],
   "source": [
    "import time\n",
    "ret=env.step([0,1,0])\n",
    "time.sleep(3)\n",
    "ret=env.step([0,0,1])\n",
    "ret[2]"
   ]
  },
  {
   "cell_type": "code",
   "execution_count": 14,
   "metadata": {},
   "outputs": [
    {
     "data": {
      "text/plain": [
       "[29.625003814697266, 0.012087401933968067, 0.0003726139257196337]"
      ]
     },
     "execution_count": 14,
     "metadata": {},
     "output_type": "execute_result"
    }
   ],
   "source": []
  },
  {
   "cell_type": "code",
   "execution_count": 1,
   "metadata": {
    "scrolled": true
   },
   "outputs": [
    {
     "name": "stdout",
     "output_type": "stream",
     "text": [
      "Connected!\n",
      "Client Ver:1 (Min Req: 1), Server Ver:1 (Min Req: 1)\n",
      "\n"
     ]
    },
    {
     "data": {
      "text/plain": [
       "<CarState> {   'gear': 2,\n",
       "    'handbrake': False,\n",
       "    'kinematics_estimated': <KinematicsState> {   'angular_acceleration': <Vector3r> {   'x_val': 0.0036164771299809217,\n",
       "    'y_val': 0.15115441381931305,\n",
       "    'z_val': 0.00034150166902691126},\n",
       "    'angular_velocity': <Vector3r> {   'x_val': 0.0009292212198488414,\n",
       "    'y_val': 0.002805039519444108,\n",
       "    'z_val': 0.0019152293680235744},\n",
       "    'linear_acceleration': <Vector3r> {   'x_val': 0.03128810599446297,\n",
       "    'y_val': -0.0024345761630684137,\n",
       "    'z_val': 0.3486420810222626},\n",
       "    'linear_velocity': <Vector3r> {   'x_val': -1.5986663103103638,\n",
       "    'y_val': 14.99531364440918,\n",
       "    'z_val': 0.402770072221756},\n",
       "    'orientation': <Quaternionr> {   'w_val': 0.9988759756088257,\n",
       "    'x_val': -0.0010122499661520123,\n",
       "    'y_val': 0.0014149659546092153,\n",
       "    'z_val': 0.047369372099637985},\n",
       "    'position': <Vector3r> {   'x_val': 134.30160522460938,\n",
       "    'y_val': 0.006790771149098873,\n",
       "    'z_val': -0.7032681703567505}},\n",
       "    'maxrpm': 7500.0,\n",
       "    'rpm': 3606.4140625,\n",
       "    'speed': 0.001285909558646381,\n",
       "    'timestamp': 1574530726473287200}"
      ]
     },
     "execution_count": 1,
     "metadata": {},
     "output_type": "execute_result"
    }
   ],
   "source": [
    "import airsim\n",
    "client = airsim.CarClient()\n",
    "client.confirmConnection()\n",
    "client.enableApiControl(True)\n",
    "car_controls = airsim.CarControls()\n",
    "car_state = client.getCarState()\n",
    "car_state"
   ]
  },
  {
   "cell_type": "code",
   "execution_count": null,
   "metadata": {
    "collapsed": true
   },
   "outputs": [],
   "source": [
    "print('')"
   ]
  },
  {
   "cell_type": "code",
   "execution_count": null,
   "metadata": {
    "collapsed": true
   },
   "outputs": [],
   "source": [
    "import airsim\n",
    "airsim.__version_"
   ]
  }
 ],
 "metadata": {
  "kernelspec": {
   "display_name": "Python 3",
   "language": "python",
   "name": "python3"
  },
  "language_info": {
   "codemirror_mode": {
    "name": "ipython",
    "version": 3
   },
   "file_extension": ".py",
   "mimetype": "text/x-python",
   "name": "python",
   "nbconvert_exporter": "python",
   "pygments_lexer": "ipython3",
   "version": "3.6.2"
  }
 },
 "nbformat": 4,
 "nbformat_minor": 4
}
