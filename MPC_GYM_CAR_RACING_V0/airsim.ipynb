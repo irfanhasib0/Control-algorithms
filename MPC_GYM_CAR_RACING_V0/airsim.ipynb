{
 "cells": [
  {
   "cell_type": "code",
   "execution_count": 10,
   "metadata": {
    "collapsed": true,
    "scrolled": true
   },
   "outputs": [],
   "source": [
    "!C:\\Users\\irfan\\Exp\\Control-algorithms\\MPC_GYM_CAR_RACING_V0\\Neighborhood\\AirSimNH.exe -WINDOWED -ResX=640 -ResY=480"
   ]
  },
  {
   "cell_type": "code",
   "execution_count": 4,
   "metadata": {
    "collapsed": true
   },
   "outputs": [],
   "source": [
    "from scipy.interpolate import CubicSpline#NG_V0\\Neighborhood\\AirSimNH.exe -WINDOWED -ResX=640 -ResY=480\n",
    "import numpy as np\n",
    "import cs\n",
    "N=115#123\n",
    "n=15#7\n",
    "_len=range(N+1)\n",
    "_slen=range(1,n+1)\n",
    "_n=2.0\n",
    "_spline= [y**_n /(n**_n/n) for y in _slen]\n",
    "#csp=cs.Spline([1,10,20],[0.0,3,20])\n",
    "#_spline= [csp.calc(x) for x in _slen[:19]]\n",
    "points=[[x,-0.8] for x in _len]\n",
    "points += [[x+N,y] for x,y in zip(_slen,_spline)]\n",
    "points+=[[N+n+1,y] for y in range(n+1,N+1)]\n",
    "#csp=cs.Spline([1,10,20],[2,15,20])\n",
    "#_spline= [csp.calc(x) for x in _slen[:19]]\n",
    "_n=0.5\n",
    "_spline= [y**_n /(n**_n/n) for y in _slen]\n",
    "points += [[N+n+1-x,y+N] for x,y in zip(_slen,_spline)]\n",
    "points+=[[N-x,N+n+1] for x in _len]"
   ]
  },
  {
   "cell_type": "code",
   "execution_count": 5,
   "metadata": {
    "collapsed": true
   },
   "outputs": [],
   "source": [
    "pts=np.array(points,dtype=np.float64)"
   ]
  },
  {
   "cell_type": "code",
   "execution_count": 10,
   "metadata": {},
   "outputs": [
    {
     "data": {
      "image/png": "[encoded data removed]",
      "text/plain": [
       "<Figure size 432x288 with 1 Axes>"
      ]
     },
     "metadata": {},
     "output_type": "display_data"
    }
   ],
   "source": [
    "from matplotlib import pyplot as plt\n",
    "plt.plot(pts[:,0],pts[:,1])\n",
    "#plt.plot([1,10,15],[1,3,12])\n",
    "plt.show()"
   ]
  },
  {
   "cell_type": "code",
   "execution_count": 1,
   "metadata": {},
   "outputs": [
    {
     "ename": "NameError",
     "evalue": "name 'pts' is not defined",
     "output_type": "error",
     "traceback": [
      "\u001b[1;31m---------------------------------------------------------------------------\u001b[0m",
      "\u001b[1;31mNameError\u001b[0m                                 Traceback (most recent call last)",
      "\u001b[1;32m<ipython-input-1-52bc2b2b63e4>\u001b[0m in \u001b[0;36m<module>\u001b[1;34m()\u001b[0m\n\u001b[0;32m      1\u001b[0m \u001b[1;32mimport\u001b[0m \u001b[0mpickle\u001b[0m\u001b[1;33m\u001b[0m\u001b[0m\n\u001b[0;32m      2\u001b[0m \u001b[0mf\u001b[0m\u001b[1;33m=\u001b[0m\u001b[0mopen\u001b[0m\u001b[1;33m(\u001b[0m\u001b[1;34m'map_as_123'\u001b[0m\u001b[1;33m,\u001b[0m\u001b[1;34m'wb'\u001b[0m\u001b[1;33m)\u001b[0m\u001b[1;33m\u001b[0m\u001b[0m\n\u001b[1;32m----> 3\u001b[1;33m \u001b[0mpickle\u001b[0m\u001b[1;33m.\u001b[0m\u001b[0mdump\u001b[0m\u001b[1;33m(\u001b[0m\u001b[0mpts\u001b[0m\u001b[1;33m,\u001b[0m\u001b[0mf\u001b[0m\u001b[1;33m)\u001b[0m\u001b[1;33m\u001b[0m\u001b[0m\n\u001b[0m\u001b[0;32m      4\u001b[0m \u001b[0mf\u001b[0m\u001b[1;33m.\u001b[0m\u001b[0mclose\u001b[0m\u001b[1;33m(\u001b[0m\u001b[1;33m)\u001b[0m\u001b[1;33m\u001b[0m\u001b[0m\n",
      "\u001b[1;31mNameError\u001b[0m: name 'pts' is not defined"
     ]
    }
   ],
   "source": [
    "import pickle\n",
    "f=open('map_as_123','wb')\n",
    "pickle.dump(pts,f)\n",
    "f.close()\n"
   ]
  },
  {
   "cell_type": "code",
   "execution_count": 38,
   "metadata": {},
   "outputs": [
    {
     "data": {
      "image/png": "[encoded data removed]",
      "text/plain": [
       "<Figure size 432x288 with 1 Axes>"
      ]
     },
     "metadata": {},
     "output_type": "display_data"
    }
   ],
   "source": [
    "import numpy as np\n",
    "from matplotlib import pyplot as plt\n",
    "\n",
    "pts=[[0,0],[125,0],[125,125],[0,125],[]]\n",
    "pts=np.array(pts)\n",
    "N=125\n",
    "_pts=[]\n",
    "for i in range(len(pts)-1):\n",
    "    A=np.linspace(pts[i,0],pts[i+1,0],N)\n",
    "    B=np.linspace(pts[i,1],pts[i+1,1],N)\n",
    "    _pts+=[[x,y] for x,y in zip(A,B)]\n",
    "    +1\n",
    "    '''\n",
    "N=115#123\n",
    "n=15#7\n",
    "_len=range(N)\n",
    "_slen=range(1,n)\n",
    "points=[[x,-0.8] for x in _len]\n",
    "points += [[x+N,y] for x,y in zip(_slen,_slen)]\n",
    "\n",
    "points+=[[N+n+1,y] for y in range(n,N)]\n",
    "points += [[N+n+1-x,y+N] for x,y in zip(_slen,_slen)]\n",
    "points+=[[N-x,N+n] for x in _len]\n",
    "\n",
    "'''\n",
    "_pts=np.array(_pts)\n",
    "plt.plot(_pts[:,0],_pts[:,1])\n",
    "plt.show()"
   ]
  },
  {
   "cell_type": "code",
   "execution_count": 42,
   "metadata": {},
   "outputs": [
    {
     "data": {
      "image/png": "[encoded data removed]",
      "text/plain": [
       "<Figure size 432x288 with 1 Axes>"
      ]
     },
     "metadata": {},
     "output_type": "display_data"
    }
   ],
   "source": [
    "_pts[:,0]\n",
    "N=30\n",
    "def moving_avg(arr):\n",
    "    _arr=arr.copy()\n",
    "    for i,pt in enumerate(arr):\n",
    "        if i>=N//2:\n",
    "            ul=i-N//2\n",
    "            ll=i+N//2\n",
    "            arr[i]=np.mean(_arr[ul:ll+1])\n",
    "    return arr\n",
    "_pts[:,0]=moving_avg(_pts[:,0])\n",
    "_pts[:,1]=moving_avg(_pts[:,1])\n",
    "plt.plot(_pts[:,0],_pts[:,1])\n",
    "plt.show()"
   ]
  },
  {
   "cell_type": "code",
   "execution_count": 43,
   "metadata": {
    "collapsed": true
   },
   "outputs": [],
   "source": [
    "import pickle\n",
    "f=open('map_as_123','wb')\n",
    "pickle.dump(_pts,f)\n",
    "f.close()"
   ]
  },
  {
   "cell_type": "code",
   "execution_count": 45,
   "metadata": {},
   "outputs": [
    {
     "data": {
      "text/plain": [
       "125.0"
      ]
     },
     "execution_count": 45,
     "metadata": {},
     "output_type": "execute_result"
    }
   ],
   "source": [
    "np.max(_pts[:,1])"
   ]
  },
  {
   "cell_type": "code",
   "execution_count": 22,
   "metadata": {
    "collapsed": true
   },
   "outputs": [],
   "source": [
    "_x=pts[115:132,0]\n",
    "_y=pts[115:132,1]\n",
    "_len=range(1,15)\n",
    "cs= CubicSpline(_len,np.sin(_len))\n",
    "ret=cs(_len)"
   ]
  },
  {
   "cell_type": "code",
   "execution_count": 56,
   "metadata": {
    "collapsed": true
   },
   "outputs": [],
   "source": [
    "_spline= [y**_n /(n**_n/n) for y in _slen]"
   ]
  },
  {
   "cell_type": "code",
   "execution_count": 5,
   "metadata": {},
   "outputs": [
    {
     "data": {
      "text/plain": [
       "0.057522203923062065"
      ]
     },
     "execution_count": 5,
     "metadata": {},
     "output_type": "execute_result"
    }
   ],
   "source": [
    "import numpy as np\n",
    "1-np.deg2rad(45)*1.2"
   ]
  },
  {
   "cell_type": "code",
   "execution_count": 40,
   "metadata": {},
   "outputs": [
    {
     "data": {
      "image/png": "[encoded data removed]",
      "text/plain": [
       "<Figure size 432x288 with 1 Axes>"
      ]
     },
     "metadata": {},
     "output_type": "display_data"
    }
   ],
   "source": [
    "from matplotlib import pyplot as plt\n",
    "X=np.arange(1,10)\n",
    "Y=X**0.1\n",
    "Y=Y/(np.max(Y)/10)\n",
    "plt.plot(X,Y)\n",
    "plt.show()"
   ]
  },
  {
   "cell_type": "code",
   "execution_count": 20,
   "metadata": {},
   "outputs": [
    {
     "ename": "NameError",
     "evalue": "name 'self' is not defined",
     "output_type": "error",
     "traceback": [
      "\u001b[1;31m---------------------------------------------------------------------------\u001b[0m",
      "\u001b[1;31mNameError\u001b[0m                                 Traceback (most recent call last)",
      "\u001b[1;32m<ipython-input-20-7dc017189cd5>\u001b[0m in \u001b[0;36m<module>\u001b[1;34m()\u001b[0m\n\u001b[0;32m      1\u001b[0m \u001b[1;32mimport\u001b[0m \u001b[0mairsim\u001b[0m\u001b[1;33m\u001b[0m\u001b[0m\n\u001b[1;32m----> 2\u001b[1;33m \u001b[0mself\u001b[0m\u001b[1;33m.\u001b[0m\u001b[0mclient\u001b[0m \u001b[1;33m=\u001b[0m \u001b[0mairsim\u001b[0m\u001b[1;33m.\u001b[0m\u001b[0mCarClient\u001b[0m\u001b[1;33m(\u001b[0m\u001b[1;33m)\u001b[0m\u001b[1;33m\u001b[0m\u001b[0m\n\u001b[0m\u001b[0;32m      3\u001b[0m \u001b[0mself\u001b[0m\u001b[1;33m.\u001b[0m\u001b[0mclient\u001b[0m\u001b[1;33m.\u001b[0m\u001b[0mconfirmConnection\u001b[0m\u001b[1;33m(\u001b[0m\u001b[1;33m)\u001b[0m\u001b[1;33m\u001b[0m\u001b[0m\n\u001b[0;32m      4\u001b[0m \u001b[1;31m#self.client.enableApiControl(True)\u001b[0m\u001b[1;33m\u001b[0m\u001b[1;33m\u001b[0m\u001b[0m\n\u001b[0;32m      5\u001b[0m \u001b[1;31m#self.car_controls = airsim.CarControls()\u001b[0m\u001b[1;33m\u001b[0m\u001b[1;33m\u001b[0m\u001b[0m\n",
      "\u001b[1;31mNameError\u001b[0m: name 'self' is not defined"
     ]
    }
   ],
   "source": [
    "import airsim\n",
    "self.client = airsim.CarClient()\n",
    "self.client.confirmConnection()\n",
    "#self.client.enableApiControl(True)\n",
    "#self.car_controls = airsim.CarControls()"
   ]
  },
  {
   "cell_type": "code",
   "execution_count": 28,
   "metadata": {},
   "outputs": [
    {
     "data": {
      "text/plain": [
       "0.3125"
      ]
     },
     "execution_count": 28,
     "metadata": {},
     "output_type": "execute_result"
    }
   ],
   "source": [
    "5/16"
   ]
  },
  {
   "cell_type": "code",
   "execution_count": 7,
   "metadata": {},
   "outputs": [
    {
     "data": {
      "image/png": "[encoded data removed]",
      "text/plain": [
       "<Figure size 432x288 with 1 Axes>"
      ]
     },
     "metadata": {},
     "output_type": "display_data"
    },
    {
     "data": {
      "image/png": "[encoded data removed]",
      "text/plain": [
       "<Figure size 432x288 with 1 Axes>"
      ]
     },
     "metadata": {},
     "output_type": "display_data"
    }
   ],
   "source": [
    "import numpy as np\n",
    "X1=0\n",
    "X2=129\n",
    "Y1=-1\n",
    "Y2=127\n",
    "n=10\n",
    "points=[[X1,Y1], [X2-n,Y1],[X2,n], [X2,Y2-n],[X2-n,Y2], [n,Y2],[X1,Y2-n], [X1,Y1]]\n",
    "#points=[[0,0],[115,0],[130,15],[130,115],[115,130],[15,130],[0,115],[0,0]]\n",
    "pts=np.array(points)\n",
    "from matplotlib import pyplot as plt\n",
    "plt.plot(pts[:,0],pts[:,1])\n",
    "plt.show()\n",
    "points=[]\n",
    "for i in range(len(pts)-1):\n",
    "    dist=np.sqrt(pts[i][0]**2+pts[i][1]**2)-np.sqrt(pts[i+1][0]**2+pts[i+1][1]**2)\n",
    "    X1=pts[i,0]\n",
    "    X2=pts[i+1,0]\n",
    "    \n",
    "    Y1=pts[i,1]\n",
    "    Y2=pts[i+1,1]\n",
    "    #points.append()\n",
    "    if X1!=X2 :\n",
    "        Xs=np.linspace(X1,X2,abs(X2-X1)+1)\n",
    "    else :\n",
    "        Xs=np.ones(abs(Y1-Y2)+1,dtype=np.float64)*X1\n",
    "    if Y1 !=Y2 :\n",
    "        Ys=np.linspace(Y1,Y2,abs(Y2-Y1)+1)\n",
    "    else:\n",
    "        Ys=np.ones(abs(X1-X2)+1,dtype=np.float64)*Y1\n",
    "    points+=[[x,y] for x,y in zip(Xs,Ys)]\n",
    "    \n",
    "points=np.array(points)\n",
    "plt.plot(points[:,0],points[:,1])\n",
    "plt.show()\n",
    "_points=points.copy()"
   ]
  },
  {
   "cell_type": "code",
   "execution_count": 8,
   "metadata": {},
   "outputs": [
    {
     "data": {
      "image/png": "[encoded data removed]",
      "text/plain": [
       "<Figure size 432x288 with 1 Axes>"
      ]
     },
     "metadata": {},
     "output_type": "display_data"
    }
   ],
   "source": [
    "def moving_avg(arr):\n",
    "    N=25\n",
    "    _arr=arr.copy()\n",
    "    for i,pt in enumerate(arr):\n",
    "        if i>=N//2:\n",
    "            ul=i-N//2\n",
    "            ll=i+N//2\n",
    "            arr[i]=np.mean(_arr[ul:ll+1])\n",
    "    return arr\n",
    "points[:,0]=moving_avg(points[:,0])\n",
    "points[:,1]=moving_avg(points[:,1])\n",
    "plt.plot(points[:,0],points[:,1])\n",
    "plt.plot(_points[:,0],_points[:,1])\n",
    "plt.show()"
   ]
  },
  {
   "cell_type": "code",
   "execution_count": 9,
   "metadata": {
    "collapsed": true
   },
   "outputs": [],
   "source": [
    "import pickle\n",
    "f=open('_map_as_123','wb')\n",
    "pickle.dump(points,f)\n",
    "f.close()\n"
   ]
  },
  {
   "cell_type": "code",
   "execution_count": 12,
   "metadata": {},
   "outputs": [
    {
     "data": {
      "text/plain": [
       "array([[ 0.0000e+00, -1.0000e+00],\n",
       "       [ 1.0000e+00, -1.0000e+00],\n",
       "       [ 2.0000e+00, -1.0000e+00],\n",
       "       [ 3.0000e+00, -1.0000e+00],\n",
       "       [ 4.0000e+00, -1.0000e+00],\n",
       "       [ 5.0000e+00, -1.0000e+00],\n",
       "       [ 6.0000e+00, -1.0000e+00],\n",
       "       [ 7.0000e+00, -1.0000e+00],\n",
       "       [ 8.0000e+00, -1.0000e+00],\n",
       "       [ 9.0000e+00, -1.0000e+00],\n",
       "       [ 1.0000e+01, -1.0000e+00],\n",
       "       [ 1.1000e+01, -1.0000e+00],\n",
       "       [ 1.2000e+01, -1.0000e+00],\n",
       "       [ 1.3000e+01, -1.0000e+00],\n",
       "       [ 1.4000e+01, -1.0000e+00],\n",
       "       [ 1.5000e+01, -1.0000e+00],\n",
       "       [ 1.6000e+01, -1.0000e+00],\n",
       "       [ 1.7000e+01, -1.0000e+00],\n",
       "       [ 1.8000e+01, -1.0000e+00],\n",
       "       [ 1.9000e+01, -1.0000e+00],\n",
       "       [ 2.0000e+01, -1.0000e+00],\n",
       "       [ 2.1000e+01, -1.0000e+00],\n",
       "       [ 2.2000e+01, -1.0000e+00],\n",
       "       [ 2.3000e+01, -1.0000e+00],\n",
       "       [ 2.4000e+01, -1.0000e+00],\n",
       "       [ 2.5000e+01, -1.0000e+00],\n",
       "       [ 2.6000e+01, -1.0000e+00],\n",
       "       [ 2.7000e+01, -1.0000e+00],\n",
       "       [ 2.8000e+01, -1.0000e+00],\n",
       "       [ 2.9000e+01, -1.0000e+00],\n",
       "       [ 3.0000e+01, -1.0000e+00],\n",
       "       [ 3.1000e+01, -1.0000e+00],\n",
       "       [ 3.2000e+01, -1.0000e+00],\n",
       "       [ 3.3000e+01, -1.0000e+00],\n",
       "       [ 3.4000e+01, -1.0000e+00],\n",
       "       [ 3.5000e+01, -1.0000e+00],\n",
       "       [ 3.6000e+01, -1.0000e+00],\n",
       "       [ 3.7000e+01, -1.0000e+00],\n",
       "       [ 3.8000e+01, -1.0000e+00],\n",
       "       [ 3.9000e+01, -1.0000e+00],\n",
       "       [ 4.0000e+01, -1.0000e+00],\n",
       "       [ 4.1000e+01, -1.0000e+00],\n",
       "       [ 4.2000e+01, -1.0000e+00],\n",
       "       [ 4.3000e+01, -1.0000e+00],\n",
       "       [ 4.4000e+01, -1.0000e+00],\n",
       "       [ 4.5000e+01, -1.0000e+00],\n",
       "       [ 4.6000e+01, -1.0000e+00],\n",
       "       [ 4.7000e+01, -1.0000e+00],\n",
       "       [ 4.8000e+01, -1.0000e+00],\n",
       "       [ 4.9000e+01, -1.0000e+00],\n",
       "       [ 5.0000e+01, -1.0000e+00],\n",
       "       [ 5.1000e+01, -1.0000e+00],\n",
       "       [ 5.2000e+01, -1.0000e+00],\n",
       "       [ 5.3000e+01, -1.0000e+00],\n",
       "       [ 5.4000e+01, -1.0000e+00],\n",
       "       [ 5.5000e+01, -1.0000e+00],\n",
       "       [ 5.6000e+01, -1.0000e+00],\n",
       "       [ 5.7000e+01, -1.0000e+00],\n",
       "       [ 5.8000e+01, -1.0000e+00],\n",
       "       [ 5.9000e+01, -1.0000e+00],\n",
       "       [ 6.0000e+01, -1.0000e+00],\n",
       "       [ 6.1000e+01, -1.0000e+00],\n",
       "       [ 6.2000e+01, -1.0000e+00],\n",
       "       [ 6.3000e+01, -1.0000e+00],\n",
       "       [ 6.4000e+01, -1.0000e+00],\n",
       "       [ 6.5000e+01, -1.0000e+00],\n",
       "       [ 6.6000e+01, -1.0000e+00],\n",
       "       [ 6.7000e+01, -1.0000e+00],\n",
       "       [ 6.8000e+01, -1.0000e+00],\n",
       "       [ 6.9000e+01, -1.0000e+00],\n",
       "       [ 7.0000e+01, -1.0000e+00],\n",
       "       [ 7.1000e+01, -1.0000e+00],\n",
       "       [ 7.2000e+01, -1.0000e+00],\n",
       "       [ 7.3000e+01, -1.0000e+00],\n",
       "       [ 7.4000e+01, -1.0000e+00],\n",
       "       [ 7.5000e+01, -1.0000e+00],\n",
       "       [ 7.6000e+01, -1.0000e+00],\n",
       "       [ 7.7000e+01, -1.0000e+00],\n",
       "       [ 7.8000e+01, -1.0000e+00],\n",
       "       [ 7.9000e+01, -1.0000e+00],\n",
       "       [ 8.0000e+01, -1.0000e+00],\n",
       "       [ 8.1000e+01, -1.0000e+00],\n",
       "       [ 8.2000e+01, -1.0000e+00],\n",
       "       [ 8.3000e+01, -1.0000e+00],\n",
       "       [ 8.4000e+01, -1.0000e+00],\n",
       "       [ 8.5000e+01, -1.0000e+00],\n",
       "       [ 8.6000e+01, -1.0000e+00],\n",
       "       [ 8.7000e+01, -1.0000e+00],\n",
       "       [ 8.8000e+01, -1.0000e+00],\n",
       "       [ 8.9000e+01, -1.0000e+00],\n",
       "       [ 9.0000e+01, -1.0000e+00],\n",
       "       [ 9.1000e+01, -1.0000e+00],\n",
       "       [ 9.2000e+01, -1.0000e+00],\n",
       "       [ 9.3000e+01, -1.0000e+00],\n",
       "       [ 9.4000e+01, -1.0000e+00],\n",
       "       [ 9.5000e+01, -1.0000e+00],\n",
       "       [ 9.6000e+01, -1.0000e+00],\n",
       "       [ 9.7000e+01, -1.0000e+00],\n",
       "       [ 9.8000e+01, -1.0000e+00],\n",
       "       [ 9.9000e+01, -1.0000e+00],\n",
       "       [ 1.0000e+02, -1.0000e+00],\n",
       "       [ 1.0100e+02, -1.0000e+00],\n",
       "       [ 1.0200e+02, -1.0000e+00],\n",
       "       [ 1.0296e+02, -1.0000e+00],\n",
       "       [ 1.0392e+02, -9.6000e-01],\n",
       "       [ 1.0488e+02, -8.8000e-01],\n",
       "       [ 1.0584e+02, -7.6000e-01],\n",
       "       [ 1.0680e+02, -6.0000e-01],\n",
       "       [ 1.0776e+02, -4.0000e-01],\n",
       "       [ 1.0872e+02, -1.6000e-01],\n",
       "       [ 1.0968e+02,  1.2000e-01],\n",
       "       [ 1.1064e+02,  4.4000e-01],\n",
       "       [ 1.1160e+02,  8.0000e-01],\n",
       "       [ 1.1256e+02,  1.2000e+00],\n",
       "       [ 1.1352e+02,  1.6400e+00],\n",
       "       [ 1.1448e+02,  2.1200e+00],\n",
       "       [ 1.1544e+02,  2.6400e+00],\n",
       "       [ 1.1640e+02,  3.2000e+00],\n",
       "       [ 1.1736e+02,  3.8000e+00],\n",
       "       [ 1.1828e+02,  4.4400e+00],\n",
       "       [ 1.1916e+02,  5.1200e+00],\n",
       "       [ 1.2000e+02,  5.8400e+00],\n",
       "       [ 1.2080e+02,  6.6000e+00],\n",
       "       [ 1.2156e+02,  7.4000e+00],\n",
       "       [ 1.2228e+02,  8.2400e+00],\n",
       "       [ 1.2296e+02,  9.1200e+00],\n",
       "       [ 1.2360e+02,  1.0040e+01],\n",
       "       [ 1.2420e+02,  1.1000e+01],\n",
       "       [ 1.2480e+02,  1.2000e+01],\n",
       "       [ 1.2536e+02,  1.3000e+01],\n",
       "       [ 1.2588e+02,  1.4000e+01],\n",
       "       [ 1.2636e+02,  1.5000e+01],\n",
       "       [ 1.2680e+02,  1.6000e+01],\n",
       "       [ 1.2720e+02,  1.7000e+01],\n",
       "       [ 1.2756e+02,  1.8000e+01],\n",
       "       [ 1.2788e+02,  1.9000e+01],\n",
       "       [ 1.2816e+02,  2.0000e+01],\n",
       "       [ 1.2840e+02,  2.1000e+01],\n",
       "       [ 1.2860e+02,  2.2000e+01],\n",
       "       [ 1.2876e+02,  2.3000e+01],\n",
       "       [ 1.2888e+02,  2.4000e+01],\n",
       "       [ 1.2896e+02,  2.5000e+01],\n",
       "       [ 1.2900e+02,  2.6000e+01],\n",
       "       [ 1.2900e+02,  2.7000e+01],\n",
       "       [ 1.2900e+02,  2.8000e+01],\n",
       "       [ 1.2900e+02,  2.9000e+01],\n",
       "       [ 1.2900e+02,  3.0000e+01],\n",
       "       [ 1.2900e+02,  3.1000e+01],\n",
       "       [ 1.2900e+02,  3.2000e+01],\n",
       "       [ 1.2900e+02,  3.3000e+01],\n",
       "       [ 1.2900e+02,  3.4000e+01],\n",
       "       [ 1.2900e+02,  3.5000e+01],\n",
       "       [ 1.2900e+02,  3.6000e+01],\n",
       "       [ 1.2900e+02,  3.7000e+01],\n",
       "       [ 1.2900e+02,  3.8000e+01],\n",
       "       [ 1.2900e+02,  3.9000e+01],\n",
       "       [ 1.2900e+02,  4.0000e+01],\n",
       "       [ 1.2900e+02,  4.1000e+01],\n",
       "       [ 1.2900e+02,  4.2000e+01],\n",
       "       [ 1.2900e+02,  4.3000e+01],\n",
       "       [ 1.2900e+02,  4.4000e+01],\n",
       "       [ 1.2900e+02,  4.5000e+01],\n",
       "       [ 1.2900e+02,  4.6000e+01],\n",
       "       [ 1.2900e+02,  4.7000e+01],\n",
       "       [ 1.2900e+02,  4.8000e+01],\n",
       "       [ 1.2900e+02,  4.9000e+01],\n",
       "       [ 1.2900e+02,  5.0000e+01],\n",
       "       [ 1.2900e+02,  5.1000e+01],\n",
       "       [ 1.2900e+02,  5.2000e+01],\n",
       "       [ 1.2900e+02,  5.3000e+01],\n",
       "       [ 1.2900e+02,  5.4000e+01],\n",
       "       [ 1.2900e+02,  5.5000e+01],\n",
       "       [ 1.2900e+02,  5.6000e+01],\n",
       "       [ 1.2900e+02,  5.7000e+01],\n",
       "       [ 1.2900e+02,  5.8000e+01],\n",
       "       [ 1.2900e+02,  5.9000e+01],\n",
       "       [ 1.2900e+02,  6.0000e+01],\n",
       "       [ 1.2900e+02,  6.1000e+01],\n",
       "       [ 1.2900e+02,  6.2000e+01],\n",
       "       [ 1.2900e+02,  6.3000e+01],\n",
       "       [ 1.2900e+02,  6.4000e+01],\n",
       "       [ 1.2900e+02,  6.5000e+01],\n",
       "       [ 1.2900e+02,  6.6000e+01],\n",
       "       [ 1.2900e+02,  6.7000e+01],\n",
       "       [ 1.2900e+02,  6.8000e+01],\n",
       "       [ 1.2900e+02,  6.9000e+01],\n",
       "       [ 1.2900e+02,  7.0000e+01],\n",
       "       [ 1.2900e+02,  7.1000e+01],\n",
       "       [ 1.2900e+02,  7.2000e+01],\n",
       "       [ 1.2900e+02,  7.3000e+01],\n",
       "       [ 1.2900e+02,  7.4000e+01],\n",
       "       [ 1.2900e+02,  7.5000e+01],\n",
       "       [ 1.2900e+02,  7.6000e+01],\n",
       "       [ 1.2900e+02,  7.7000e+01],\n",
       "       [ 1.2900e+02,  7.8000e+01],\n",
       "       [ 1.2900e+02,  7.9000e+01],\n",
       "       [ 1.2900e+02,  8.0000e+01],\n",
       "       [ 1.2900e+02,  8.1000e+01],\n",
       "       [ 1.2900e+02,  8.2000e+01],\n",
       "       [ 1.2900e+02,  8.3000e+01],\n",
       "       [ 1.2900e+02,  8.4000e+01],\n",
       "       [ 1.2900e+02,  8.5000e+01],\n",
       "       [ 1.2900e+02,  8.6000e+01],\n",
       "       [ 1.2900e+02,  8.7000e+01],\n",
       "       [ 1.2900e+02,  8.8000e+01],\n",
       "       [ 1.2900e+02,  8.9000e+01],\n",
       "       [ 1.2900e+02,  9.0000e+01],\n",
       "       [ 1.2900e+02,  9.1000e+01],\n",
       "       [ 1.2900e+02,  9.2000e+01],\n",
       "       [ 1.2900e+02,  9.3000e+01],\n",
       "       [ 1.2900e+02,  9.4000e+01],\n",
       "       [ 1.2900e+02,  9.5000e+01],\n",
       "       [ 1.2900e+02,  9.6000e+01],\n",
       "       [ 1.2900e+02,  9.7000e+01],\n",
       "       [ 1.2900e+02,  9.8000e+01],\n",
       "       [ 1.2900e+02,  9.9000e+01],\n",
       "       [ 1.2900e+02,  1.0000e+02],\n",
       "       [ 1.2900e+02,  1.0096e+02],\n",
       "       [ 1.2896e+02,  1.0192e+02],\n",
       "       [ 1.2888e+02,  1.0288e+02],\n",
       "       [ 1.2876e+02,  1.0384e+02],\n",
       "       [ 1.2860e+02,  1.0480e+02],\n",
       "       [ 1.2840e+02,  1.0576e+02],\n",
       "       [ 1.2816e+02,  1.0672e+02],\n",
       "       [ 1.2788e+02,  1.0768e+02],\n",
       "       [ 1.2756e+02,  1.0864e+02],\n",
       "       [ 1.2720e+02,  1.0960e+02],\n",
       "       [ 1.2680e+02,  1.1056e+02],\n",
       "       [ 1.2636e+02,  1.1152e+02],\n",
       "       [ 1.2588e+02,  1.1248e+02],\n",
       "       [ 1.2536e+02,  1.1344e+02],\n",
       "       [ 1.2480e+02,  1.1440e+02],\n",
       "       [ 1.2420e+02,  1.1536e+02],\n",
       "       [ 1.2360e+02,  1.1628e+02],\n",
       "       [ 1.2296e+02,  1.1716e+02],\n",
       "       [ 1.2228e+02,  1.1800e+02],\n",
       "       [ 1.2156e+02,  1.1880e+02],\n",
       "       [ 1.2080e+02,  1.1956e+02],\n",
       "       [ 1.2000e+02,  1.2028e+02],\n",
       "       [ 1.1916e+02,  1.2096e+02],\n",
       "       [ 1.1828e+02,  1.2160e+02],\n",
       "       [ 1.1736e+02,  1.2220e+02],\n",
       "       [ 1.1640e+02,  1.2280e+02],\n",
       "       [ 1.1544e+02,  1.2336e+02],\n",
       "       [ 1.1448e+02,  1.2388e+02],\n",
       "       [ 1.1352e+02,  1.2436e+02],\n",
       "       [ 1.1256e+02,  1.2480e+02],\n",
       "       [ 1.1160e+02,  1.2520e+02],\n",
       "       [ 1.1064e+02,  1.2556e+02],\n",
       "       [ 1.0968e+02,  1.2588e+02],\n",
       "       [ 1.0872e+02,  1.2616e+02],\n",
       "       [ 1.0776e+02,  1.2640e+02],\n",
       "       [ 1.0680e+02,  1.2660e+02],\n",
       "       [ 1.0584e+02,  1.2676e+02],\n",
       "       [ 1.0488e+02,  1.2688e+02],\n",
       "       [ 1.0392e+02,  1.2696e+02],\n",
       "       [ 1.0296e+02,  1.2700e+02],\n",
       "       [ 1.0200e+02,  1.2700e+02],\n",
       "       [ 1.0100e+02,  1.2700e+02],\n",
       "       [ 1.0000e+02,  1.2700e+02],\n",
       "       [ 9.9000e+01,  1.2700e+02],\n",
       "       [ 9.8000e+01,  1.2700e+02],\n",
       "       [ 9.7000e+01,  1.2700e+02],\n",
       "       [ 9.6000e+01,  1.2700e+02],\n",
       "       [ 9.5000e+01,  1.2700e+02],\n",
       "       [ 9.4000e+01,  1.2700e+02],\n",
       "       [ 9.3000e+01,  1.2700e+02],\n",
       "       [ 9.2000e+01,  1.2700e+02],\n",
       "       [ 9.1000e+01,  1.2700e+02],\n",
       "       [ 9.0000e+01,  1.2700e+02],\n",
       "       [ 8.9000e+01,  1.2700e+02],\n",
       "       [ 8.8000e+01,  1.2700e+02],\n",
       "       [ 8.7000e+01,  1.2700e+02],\n",
       "       [ 8.6000e+01,  1.2700e+02],\n",
       "       [ 8.5000e+01,  1.2700e+02],\n",
       "       [ 8.4000e+01,  1.2700e+02],\n",
       "       [ 8.3000e+01,  1.2700e+02],\n",
       "       [ 8.2000e+01,  1.2700e+02],\n",
       "       [ 8.1000e+01,  1.2700e+02],\n",
       "       [ 8.0000e+01,  1.2700e+02],\n",
       "       [ 7.9000e+01,  1.2700e+02],\n",
       "       [ 7.8000e+01,  1.2700e+02],\n",
       "       [ 7.7000e+01,  1.2700e+02],\n",
       "       [ 7.6000e+01,  1.2700e+02],\n",
       "       [ 7.5000e+01,  1.2700e+02],\n",
       "       [ 7.4000e+01,  1.2700e+02],\n",
       "       [ 7.3000e+01,  1.2700e+02],\n",
       "       [ 7.2000e+01,  1.2700e+02],\n",
       "       [ 7.1000e+01,  1.2700e+02],\n",
       "       [ 7.0000e+01,  1.2700e+02],\n",
       "       [ 6.9000e+01,  1.2700e+02],\n",
       "       [ 6.8000e+01,  1.2700e+02],\n",
       "       [ 6.7000e+01,  1.2700e+02],\n",
       "       [ 6.6000e+01,  1.2700e+02],\n",
       "       [ 6.5000e+01,  1.2700e+02],\n",
       "       [ 6.4000e+01,  1.2700e+02],\n",
       "       [ 6.3000e+01,  1.2700e+02],\n",
       "       [ 6.2000e+01,  1.2700e+02],\n",
       "       [ 6.1000e+01,  1.2700e+02],\n",
       "       [ 6.0000e+01,  1.2700e+02],\n",
       "       [ 5.9000e+01,  1.2700e+02],\n",
       "       [ 5.8000e+01,  1.2700e+02],\n",
       "       [ 5.7000e+01,  1.2700e+02],\n",
       "       [ 5.6000e+01,  1.2700e+02],\n",
       "       [ 5.5000e+01,  1.2700e+02],\n",
       "       [ 5.4000e+01,  1.2700e+02],\n",
       "       [ 5.3000e+01,  1.2700e+02],\n",
       "       [ 5.2000e+01,  1.2700e+02],\n",
       "       [ 5.1000e+01,  1.2700e+02],\n",
       "       [ 5.0000e+01,  1.2700e+02],\n",
       "       [ 4.9000e+01,  1.2700e+02],\n",
       "       [ 4.8000e+01,  1.2700e+02],\n",
       "       [ 4.7000e+01,  1.2700e+02],\n",
       "       [ 4.6000e+01,  1.2700e+02],\n",
       "       [ 4.5000e+01,  1.2700e+02],\n",
       "       [ 4.4000e+01,  1.2700e+02],\n",
       "       [ 4.3000e+01,  1.2700e+02],\n",
       "       [ 4.2000e+01,  1.2700e+02],\n",
       "       [ 4.1000e+01,  1.2700e+02],\n",
       "       [ 4.0000e+01,  1.2700e+02],\n",
       "       [ 3.9000e+01,  1.2700e+02],\n",
       "       [ 3.8000e+01,  1.2700e+02],\n",
       "       [ 3.7000e+01,  1.2700e+02],\n",
       "       [ 3.6000e+01,  1.2700e+02],\n",
       "       [ 3.5000e+01,  1.2700e+02],\n",
       "       [ 3.4000e+01,  1.2700e+02],\n",
       "       [ 3.3000e+01,  1.2700e+02],\n",
       "       [ 3.2000e+01,  1.2700e+02],\n",
       "       [ 3.1000e+01,  1.2700e+02],\n",
       "       [ 3.0000e+01,  1.2700e+02],\n",
       "       [ 2.9000e+01,  1.2700e+02],\n",
       "       [ 2.8000e+01,  1.2700e+02],\n",
       "       [ 2.7000e+01,  1.2700e+02],\n",
       "       [ 2.6040e+01,  1.2700e+02],\n",
       "       [ 2.5080e+01,  1.2696e+02],\n",
       "       [ 2.4120e+01,  1.2688e+02],\n",
       "       [ 2.3160e+01,  1.2676e+02],\n",
       "       [ 2.2200e+01,  1.2660e+02],\n",
       "       [ 2.1240e+01,  1.2640e+02],\n",
       "       [ 2.0280e+01,  1.2616e+02],\n",
       "       [ 1.9320e+01,  1.2588e+02],\n",
       "       [ 1.8360e+01,  1.2556e+02],\n",
       "       [ 1.7400e+01,  1.2520e+02],\n",
       "       [ 1.6440e+01,  1.2480e+02],\n",
       "       [ 1.5480e+01,  1.2436e+02],\n",
       "       [ 1.4520e+01,  1.2388e+02],\n",
       "       [ 1.3560e+01,  1.2336e+02],\n",
       "       [ 1.2600e+01,  1.2280e+02],\n",
       "       [ 1.1640e+01,  1.2220e+02],\n",
       "       [ 1.0720e+01,  1.2160e+02],\n",
       "       [ 9.8400e+00,  1.2096e+02],\n",
       "       [ 9.0000e+00,  1.2028e+02],\n",
       "       [ 8.2000e+00,  1.1956e+02],\n",
       "       [ 7.4400e+00,  1.1880e+02],\n",
       "       [ 6.7200e+00,  1.1800e+02],\n",
       "       [ 6.0400e+00,  1.1716e+02],\n",
       "       [ 5.4000e+00,  1.1628e+02],\n",
       "       [ 4.8000e+00,  1.1536e+02],\n",
       "       [ 4.2000e+00,  1.1440e+02],\n",
       "       [ 3.6400e+00,  1.1344e+02],\n",
       "       [ 3.1200e+00,  1.1248e+02],\n",
       "       [ 2.6400e+00,  1.1152e+02],\n",
       "       [ 2.2000e+00,  1.1056e+02],\n",
       "       [ 1.8000e+00,  1.0960e+02],\n",
       "       [ 1.4400e+00,  1.0864e+02],\n",
       "       [ 1.1200e+00,  1.0768e+02],\n",
       "       [ 8.4000e-01,  1.0672e+02],\n",
       "       [ 6.0000e-01,  1.0576e+02],\n",
       "       [ 4.0000e-01,  1.0480e+02],\n",
       "       [ 2.4000e-01,  1.0384e+02],\n",
       "       [ 1.2000e-01,  1.0288e+02],\n",
       "       [ 4.0000e-02,  1.0192e+02],\n",
       "       [ 0.0000e+00,  1.0096e+02],\n",
       "       [ 0.0000e+00,  1.0000e+02],\n",
       "       [ 0.0000e+00,  9.9000e+01],\n",
       "       [ 0.0000e+00,  9.8000e+01],\n",
       "       [ 0.0000e+00,  9.7000e+01],\n",
       "       [ 0.0000e+00,  9.6000e+01],\n",
       "       [ 0.0000e+00,  9.5000e+01],\n",
       "       [ 0.0000e+00,  9.4000e+01],\n",
       "       [ 0.0000e+00,  9.3000e+01],\n",
       "       [ 0.0000e+00,  9.2000e+01],\n",
       "       [ 0.0000e+00,  9.1000e+01],\n",
       "       [ 0.0000e+00,  9.0000e+01],\n",
       "       [ 0.0000e+00,  8.9000e+01],\n",
       "       [ 0.0000e+00,  8.8000e+01],\n",
       "       [ 0.0000e+00,  8.7000e+01],\n",
       "       [ 0.0000e+00,  8.6000e+01],\n",
       "       [ 0.0000e+00,  8.5000e+01],\n",
       "       [ 0.0000e+00,  8.4000e+01],\n",
       "       [ 0.0000e+00,  8.3000e+01],\n",
       "       [ 0.0000e+00,  8.2000e+01],\n",
       "       [ 0.0000e+00,  8.1000e+01],\n",
       "       [ 0.0000e+00,  8.0000e+01],\n",
       "       [ 0.0000e+00,  7.9000e+01],\n",
       "       [ 0.0000e+00,  7.8000e+01],\n",
       "       [ 0.0000e+00,  7.7000e+01],\n",
       "       [ 0.0000e+00,  7.6000e+01],\n",
       "       [ 0.0000e+00,  7.5000e+01],\n",
       "       [ 0.0000e+00,  7.4000e+01],\n",
       "       [ 0.0000e+00,  7.3000e+01],\n",
       "       [ 0.0000e+00,  7.2000e+01],\n",
       "       [ 0.0000e+00,  7.1000e+01],\n",
       "       [ 0.0000e+00,  7.0000e+01],\n",
       "       [ 0.0000e+00,  6.9000e+01],\n",
       "       [ 0.0000e+00,  6.8000e+01],\n",
       "       [ 0.0000e+00,  6.7000e+01],\n",
       "       [ 0.0000e+00,  6.6000e+01],\n",
       "       [ 0.0000e+00,  6.5000e+01],\n",
       "       [ 0.0000e+00,  6.4000e+01],\n",
       "       [ 0.0000e+00,  6.3000e+01],\n",
       "       [ 0.0000e+00,  6.2000e+01],\n",
       "       [ 0.0000e+00,  6.1000e+01],\n",
       "       [ 0.0000e+00,  6.0000e+01],\n",
       "       [ 0.0000e+00,  5.9000e+01],\n",
       "       [ 0.0000e+00,  5.8000e+01],\n",
       "       [ 0.0000e+00,  5.7000e+01],\n",
       "       [ 0.0000e+00,  5.6000e+01],\n",
       "       [ 0.0000e+00,  5.5000e+01],\n",
       "       [ 0.0000e+00,  5.4000e+01],\n",
       "       [ 0.0000e+00,  5.3000e+01],\n",
       "       [ 0.0000e+00,  5.2000e+01],\n",
       "       [ 0.0000e+00,  5.1000e+01],\n",
       "       [ 0.0000e+00,  5.0000e+01],\n",
       "       [ 0.0000e+00,  4.9000e+01],\n",
       "       [ 0.0000e+00,  4.8000e+01],\n",
       "       [ 0.0000e+00,  4.7000e+01],\n",
       "       [ 0.0000e+00,  4.6000e+01],\n",
       "       [ 0.0000e+00,  4.5000e+01],\n",
       "       [ 0.0000e+00,  4.4000e+01],\n",
       "       [ 0.0000e+00,  4.3000e+01],\n",
       "       [ 0.0000e+00,  4.2000e+01],\n",
       "       [ 0.0000e+00,  4.1000e+01],\n",
       "       [ 0.0000e+00,  4.0000e+01],\n",
       "       [ 0.0000e+00,  3.9000e+01],\n",
       "       [ 0.0000e+00,  3.8000e+01],\n",
       "       [ 0.0000e+00,  3.7000e+01],\n",
       "       [ 0.0000e+00,  3.6000e+01],\n",
       "       [ 0.0000e+00,  3.5000e+01],\n",
       "       [ 0.0000e+00,  3.4000e+01],\n",
       "       [ 0.0000e+00,  3.3000e+01],\n",
       "       [ 0.0000e+00,  3.2000e+01],\n",
       "       [ 0.0000e+00,  3.1000e+01],\n",
       "       [ 0.0000e+00,  3.0000e+01],\n",
       "       [ 0.0000e+00,  2.9000e+01],\n",
       "       [ 0.0000e+00,  2.8000e+01],\n",
       "       [ 0.0000e+00,  2.7000e+01],\n",
       "       [ 0.0000e+00,  2.6000e+01],\n",
       "       [ 0.0000e+00,  2.5000e+01],\n",
       "       [ 0.0000e+00,  2.4000e+01],\n",
       "       [ 0.0000e+00,  2.3000e+01],\n",
       "       [ 0.0000e+00,  2.2000e+01],\n",
       "       [ 0.0000e+00,  2.1000e+01],\n",
       "       [ 0.0000e+00,  2.0000e+01],\n",
       "       [ 0.0000e+00,  1.9000e+01],\n",
       "       [ 0.0000e+00,  1.8000e+01],\n",
       "       [ 0.0000e+00,  1.7000e+01],\n",
       "       [ 0.0000e+00,  1.6000e+01],\n",
       "       [ 0.0000e+00,  1.5000e+01],\n",
       "       [ 0.0000e+00,  1.4000e+01],\n",
       "       [ 0.0000e+00,  1.3000e+01],\n",
       "       [ 0.0000e+00,  1.2000e+01],\n",
       "       [ 0.0000e+00,  1.1000e+01],\n",
       "       [ 0.0000e+00,  1.0500e+01],\n",
       "       [ 0.0000e+00,  1.0000e+01],\n",
       "       [ 0.0000e+00,  9.5000e+00],\n",
       "       [ 0.0000e+00,  9.0000e+00],\n",
       "       [ 0.0000e+00,  8.5000e+00],\n",
       "       [ 0.0000e+00,  8.0000e+00],\n",
       "       [ 0.0000e+00,  7.5000e+00],\n",
       "       [ 0.0000e+00,  7.0000e+00],\n",
       "       [ 0.0000e+00,  6.5000e+00],\n",
       "       [ 0.0000e+00,  6.0000e+00],\n",
       "       [ 0.0000e+00,  5.5000e+00],\n",
       "       [ 0.0000e+00,  5.0000e+00]])"
      ]
     },
     "execution_count": 12,
     "metadata": {},
     "output_type": "execute_result"
    }
   ],
   "source": [
    "points"
   ]
  },
  {
   "cell_type": "code",
   "execution_count": null,
   "metadata": {
    "collapsed": true
   },
   "outputs": [],
   "source": []
  }
 ],
 "metadata": {
  "kernelspec": {
   "display_name": "Python 3",
   "language": "python",
   "name": "python3"
  },
  "language_info": {
   "codemirror_mode": {
    "name": "ipython",
    "version": 3
   },
   "file_extension": ".py",
   "mimetype": "text/x-python",
   "name": "python",
   "nbconvert_exporter": "python",
   "pygments_lexer": "ipython3",
   "version": "3.6.2"
  }
 },
 "nbformat": 4,
 "nbformat_minor": 2
}
