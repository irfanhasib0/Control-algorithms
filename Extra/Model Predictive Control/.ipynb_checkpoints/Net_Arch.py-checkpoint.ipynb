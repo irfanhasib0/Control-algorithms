{
 "cells": [
  {
   "cell_type": "code",
   "execution_count": null,
   "metadata": {},
   "outputs": [],
   "source": [
    "import tensorflow as tf\n",
    "# A class that defines a neural network with the following architecture:\n",
    "# - 1 convolutional layer with 16 8x8 kernels with a stride of 4x4 w/ ReLU activation\n",
    "# - 1 convolutional layer with 32 4x4 kernels with a stride of 2x2 w/ ReLU activation\n",
    "# - 1 fully connected layer with 256 neurons and ReLU activation. \n",
    "# Based on 2013 paper 'Playing Atari with Deep Reinforcement Learning' by Mnih et al\n",
    "class Model():\n",
    "    def __ini__(self):\n",
    "        self._loss=None\n",
    "        self._opt=None\n",
    "\n",
    "    def Atari_Net(self, input, action_size):\n",
    "        layer1_out = tf.layers.conv2d(input, filters=16, kernel_size=[8, 8],\n",
    "                                      strides=[4, 4], padding='same', activation=tf.nn.relu, data_format='channels_first', name='layer1_out')\n",
    "        layer2_out = tf.layers.conv2d(layer1_out, filters=32, kernel_size=[4, 4],\n",
    "                                      strides=[2, 2], padding='same', activation=tf.nn.relu, data_format='channels_first', name='layer2_out')\n",
    "        layer3_out = tf.layers.dense(tf.layers.flatten(layer2_out), 256, activation=tf.nn.relu, name='layer3_out')\n",
    "        output = tf.layers.dense(layer3_out, action_size, activation=None, name='output')\n",
    "        return output\n",
    "\n",
    "    def optimize(self,lr):\n",
    "        self._loss = tf.reduce_mean(tf.square(td_errors))\n",
    "        self._opt = tf.train.AdamOptimizer(lr).minimize(_loss)"
   ]
  }
 ],
 "metadata": {
  "kernelspec": {
   "display_name": "Python 3",
   "language": "python",
   "name": "python3"
  },
  "language_info": {
   "codemirror_mode": {
    "name": "ipython",
    "version": 3
   },
   "file_extension": ".py",
   "mimetype": "text/x-python",
   "name": "python",
   "nbconvert_exporter": "python",
   "pygments_lexer": "ipython3",
   "version": "3.6.8"
  }
 },
 "nbformat": 4,
 "nbformat_minor": 2
}
