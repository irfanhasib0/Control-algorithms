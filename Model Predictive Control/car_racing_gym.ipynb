{
 "cells": [
  {
   "cell_type": "code",
   "execution_count": 1,
   "metadata": {},
   "outputs": [],
   "source": [
    "#!pip3 install --upgrade gym\n",
    "#!pip3 install --upgrade box2d-py\n",
    "#!pip3 install opencv-python\n",
    "#from gym.envs.box2d.car_dynamics import Car"
   ]
  },
  {
   "cell_type": "code",
   "execution_count": 2,
   "metadata": {},
   "outputs": [],
   "source": []
  },
  {
   "cell_type": "code",
   "execution_count": 3,
   "metadata": {},
   "outputs": [
    {
     "data": {
      "text/plain": [
       "array([0.2187804 , 0.7549155 , 0.46578676], dtype=float32)"
      ]
     },
     "execution_count": 3,
     "metadata": {},
     "output_type": "execute_result"
    }
   ],
   "source": []
  },
  {
   "cell_type": "code",
   "execution_count": 4,
   "metadata": {},
   "outputs": [],
   "source": [
    "#env=gym.make('CarRacing-v0')\n",
    "#env.action_space\n",
    "#env.action_space.sample()"
   ]
  },
  {
   "cell_type": "code",
   "execution_count": 5,
   "metadata": {},
   "outputs": [
    {
     "name": "stdout",
     "output_type": "stream",
     "text": [
      "Track generation: 1072..1344 -> 272-tiles track\n"
     ]
    }
   ],
   "source": [
    "\n",
    "envc.reset()\n",
    "nst,rw,ter,info=envc.step([0,1,0])"
   ]
  },
  {
   "cell_type": "code",
   "execution_count": 4,
   "metadata": {},
   "outputs": [],
   "source": [
    "def accl_to_gas(accl,vel):\n",
    "    SIZE = 0.02\n",
    "    ENGINE_POWER= 100000000*SIZE*SIZE\n",
    "    WHEEL_MOMENT_OF_INERTIA = 4000*SIZE*SIZE\n",
    "    WHEEL_R  = 27 \n",
    "    wheel_rad=WHEEL_R*SIZE\n",
    "    mass=(2*WHEEL_MOMENT_OF_INERTIA)/wheel_rad\n",
    "    mass=4*mass\n",
    "    #mass=.25\n",
    "    power=mass*accl*(vel+accl/2)\n",
    "    gas=power/ENGINE_POWER\n",
    "    return gas\n"
   ]
  },
  {
   "cell_type": "code",
   "execution_count": 5,
   "metadata": {},
   "outputs": [
    {
     "data": {
      "text/plain": [
       "11.851851851851851"
      ]
     },
     "execution_count": 5,
     "metadata": {},
     "output_type": "execute_result"
    }
   ],
   "source": [
    "gas=accl_to_gas(1,0)\n",
    "SIZE = 0.02\n",
    "ENGINE_POWER= 100000000*SIZE*SIZE\n",
    "gas*ENGINE_POWER"
   ]
  },
  {
   "cell_type": "code",
   "execution_count": 19,
   "metadata": {},
   "outputs": [],
   "source": [
    "def accl_to_gas(accl,vel):\n",
    "    SIZE = 0.02\n",
    "    ENGINE_POWER= 100000000*SIZE*SIZE\n",
    "    WHEEL_MOMENT_OF_INERTIA = 4000*SIZE*SIZE\n",
    "    WHEEL_R  = 27 \n",
    "    wheel_rad=WHEEL_R*SIZE\n",
    "    mass=(2*WHEEL_MOMENT_OF_INERTIA)/wheel_rad\n",
    "    #mass=.25\n",
    "    power=4*mass*accl*vel\n",
    "    gas=power/ENGINE_POWER\n",
    "    return gas\n",
    "\n",
    "def env_step(env,action):\n",
    "    plt.cla()\n",
    "    frame=np.zeros((100,200,3),dtype=np.uint8)\n",
    "    font = cv2.FONT_HERSHEY_SIMPLEX\n",
    "    \n",
    "    nst,rw,ter,info=envc.step(action) # take a random action\n",
    "    frame[0:96,0:96,:]=np.array(nst)\n",
    "    \n",
    "    pos=envc.car.hull.position\n",
    "    vel=np.sqrt(envc.car.hull.linearVelocity[0]**2+envc.car.hull.linearVelocity[1]**2)\n",
    "    ang=envc.car.hull.angle\n",
    "    \n",
    "    img = cv2.putText(np.array(frame), 'vel %f'%vel, (100,10), font,.3, (255,255,0),1, cv2.LINE_AA)\n",
    "    img = cv2.putText(np.array(img), 'ang %f'%ang, (100,20), font,.3, (255,0,255),1, cv2.LINE_AA)\n",
    "    image = cv2.putText(np.array(img), 'x,y %f,%f'%(pos[0],pos[1]), (100,30), font,.2, (255,0,255),1, cv2.LINE_AA)\n",
    "        \n",
    "    plt.imshow(image)\n",
    "    plt.show()\n",
    "    plt.pause(0.0001)\n",
    "        \n",
    "    return [pos[0],pos[1],vel,ang],rw,ter,info\n",
    "#envc.close()"
   ]
  },
  {
   "cell_type": "code",
   "execution_count": 41,
   "metadata": {},
   "outputs": [],
   "source": [
    "envc.close()"
   ]
  },
  {
   "cell_type": "code",
   "execution_count": 5,
   "metadata": {},
   "outputs": [
    {
     "name": "stdout",
     "output_type": "stream",
     "text": [
      "Track generation: 1041..1305 -> 264-tiles track\n"
     ]
    }
   ],
   "source": [
    "%matplotlib tk\n",
    "import gym\n",
    "from matplotlib import pyplot as plt\n",
    "import cv2\n",
    "import numpy as np\n",
    "from car_env import CarRacing\n",
    "import time\n",
    "\n",
    "envc=CarRacing()\n",
    "def env_reset(envc):\n",
    "    import pickle\n",
    "    envc.reset()\n",
    "    save=False\n",
    "    if save==True:\n",
    "        f=open('path-1','wb')\n",
    "        pickle.dump(envc.track,f)\n",
    "        f.close()\n",
    "    f=open('path-1','rb')\n",
    "    track=pickle.load(f)\n",
    "    f.close()\n",
    "    envc.track=track\n",
    "    \n",
    "    points=[[x,y] for a,b,x,y in envc.track]\n",
    "    points=np.array(points)\n",
    "    plt.plot(points[:,0],points[:,1])\n",
    "    plt.show()\n",
    "    return env_step(envc,[0,0,0])\n",
    "    \n",
    "\n",
    "for i in range(100):\n",
    "    st,rw,ter,info=env_step(envc,[0,1,0])\n",
    "    time.sleep(0.1)\n",
    "    #print(st)\n",
    "envc.close()"
   ]
  },
  {
   "cell_type": "code",
   "execution_count": 16,
   "metadata": {},
   "outputs": [],
   "source": [
    "plt.plot(points[:,0]+150,points[:,1]+150)\n",
    "plt.show()"
   ]
  },
  {
   "cell_type": "code",
   "execution_count": null,
   "metadata": {},
   "outputs": [],
   "source": [
    "cv2.imwrite(data)"
   ]
  },
  {
   "cell_type": "code",
   "execution_count": 8,
   "metadata": {},
   "outputs": [],
   "source": [
    "#https://navoshta.com/detecting-road-features/\n",
    "#https://towardsdatascience.com/tutorial-build-a-lane-detector-679fd8953132\n",
    "#https://towardsdatascience.com/finding-lane-lines-simple-pipeline-for-lane-detection-d02b62e7572b"
   ]
  },
  {
   "cell_type": "code",
   "execution_count": 38,
   "metadata": {},
   "outputs": [],
   "source": [
    "import cv2 \n",
    "import numpy as np\n",
    "from matplotlib import pyplot as plt"
   ]
  },
  {
   "cell_type": "code",
   "execution_count": 39,
   "metadata": {},
   "outputs": [],
   "source": [
    "class image_to_traj():\n",
    "    def __init__(self,N=10):\n",
    "        self.N=N\n",
    "    #@property\n",
    "    def run(self,image):\n",
    "        canny = self.do_canny(image)\n",
    "        segment = self.do_segment(canny)\n",
    "        ret= self.get_points(segment)\n",
    "        return ret\n",
    "        #hough = cv2.HoughLinesP(segment, 1, np.pi / 180, 10, np.array([]), minLineLength = 5, maxLineGap = 5)\n",
    "    def do_canny(self,image):\n",
    "        gray = cv2.cvtColor(image, cv2.COLOR_RGB2GRAY)\n",
    "        blur = cv2.GaussianBlur(gray, (5, 5), 0)\n",
    "        canny = cv2.Canny(blur, 50, 150)\n",
    "        return canny\n",
    "\n",
    "    def do_segment(self,img):\n",
    "        height = img.shape[0]\n",
    "        polygons = np.array([\n",
    "                                [(0, 80), (96, 80), (0, 0),(96,0)]\n",
    "                            ])\n",
    "        mask = np.zeros_like(img)\n",
    "        cv2.fillPoly(mask, polygons, 255)\n",
    "        segment = cv2.bitwise_and(img, mask)\n",
    "        return segment\n",
    "\n",
    "    def get_points(self,segment):\n",
    "        crops=[]\n",
    "        cxs=[]\n",
    "        _cys=[]\n",
    "        cys=[]\n",
    "        offset=self.N//2\n",
    "        height=segment.shape[1]\n",
    "        for i in range(height//self.N):\n",
    "            crop=segment[i*self.N:(i+1)*self.N,:]\n",
    "            crops.append(crop)\n",
    "            M=cv2.moments(crop)\n",
    "            try:\n",
    "                cx = int(M['m10']/M['m00'])\n",
    "                cy = int(M['m01']/M['m00'])\n",
    "            except:\n",
    "                pass\n",
    "                #cx=20\n",
    "                #cy=N\n",
    "            cxs.append(cx)\n",
    "            _cys.append(cy)\n",
    "            cys.append(offset+cy)\n",
    "            #print(cx,cy)\n",
    "            #print(crop)\n",
    "            _crop=crop.copy()\n",
    "            img = cv2.circle(_crop,(cx,cy), 2, (255,255,255), -1)\n",
    "            #plt.imshow(img,cmap='gray',vmin=0,vmax=255)\n",
    "            #plt.show()_\n",
    "            offset+=self.N\n",
    "            #print(i)\n",
    "        return crops,cxs,_cys,cys"
   ]
  },
  {
   "cell_type": "code",
   "execution_count": 40,
   "metadata": {},
   "outputs": [
    {
     "name": "stdout",
     "output_type": "stream",
     "text": [
      "x,y : 21 5 x,y : 32 14 x,y : 43 23 x,y : 47 33 x,y : 47 46 x,y : 47 54 x,y : 47 64 x,y : 47 74 x,y : 47 80 "
     ]
    }
   ],
   "source": [
    "i=0\n",
    "N=10\n",
    "frame=cv2.imread('car_lane.jpg')\n",
    "i2t=image_to_traj(N=10)\n",
    "[crops,cxs,cys,hh]=i2t.run(frame)\n",
    "#crops,cxs,cys=get_points(segment,N)\n",
    "for x,y,crop in zip(cxs,cys,crops):\n",
    "    img = cv2.circle(frame,(x,i+y), 2, (255,255,255), -1)\n",
    "    print('x,y :',x,y+i,end=' ')\n",
    "    i+=N\n",
    "    \n",
    "plt.imshow(img,cmap='gray',vmin=0,vmax=255)\n",
    "plt.show()"
   ]
  },
  {
   "cell_type": "code",
   "execution_count": 71,
   "metadata": {},
   "outputs": [],
   "source": [
    "# Draw the lines\n",
    "if hough is not None:\n",
    "        for i in range(0, len(hough)):\n",
    "            l = hough[i][0]\n",
    "            _ss=cv2.line(canny, (l[0], l[1]), (l[2], l[3]), (255,255,255), 1, cv.LINE_AA)"
   ]
  },
  {
   "cell_type": "code",
   "execution_count": 72,
   "metadata": {},
   "outputs": [
    {
     "data": {
      "text/plain": [
       "<matplotlib.image.AxesImage at 0x7fee97accc18>"
      ]
     },
     "execution_count": 72,
     "metadata": {},
     "output_type": "execute_result"
    }
   ],
   "source": [
    "plt.imshow(nst)"
   ]
  },
  {
   "cell_type": "code",
   "execution_count": 73,
   "metadata": {},
   "outputs": [
    {
     "ename": "TypeError",
     "evalue": "bad argument type for built-in operation",
     "output_type": "error",
     "traceback": [
      "\u001b[0;31m---------------------------------------------------------------------------\u001b[0m",
      "\u001b[0;31mTypeError\u001b[0m                                 Traceback (most recent call last)",
      "\u001b[0;32m<ipython-input-73-de540b73920e>\u001b[0m in \u001b[0;36m<module>\u001b[0;34m\u001b[0m\n\u001b[0;32m----> 1\u001b[0;31m \u001b[0mcv2\u001b[0m\u001b[0;34m.\u001b[0m\u001b[0mimwrite\u001b[0m\u001b[0;34m(\u001b[0m\u001b[0mnst\u001b[0m\u001b[0;34m,\u001b[0m\u001b[0;34m'car_lane.jpg'\u001b[0m\u001b[0;34m)\u001b[0m\u001b[0;34m\u001b[0m\u001b[0;34m\u001b[0m\u001b[0m\n\u001b[0m",
      "\u001b[0;31mTypeError\u001b[0m: bad argument type for built-in operation"
     ]
    }
   ],
   "source": [
    "#cv2.imwrite(nst,'car_lane.jpg')"
   ]
  },
  {
   "cell_type": "code",
   "execution_count": 49,
   "metadata": {},
   "outputs": [
    {
     "data": {
      "text/plain": [
       "(96, 96)"
      ]
     },
     "execution_count": 49,
     "metadata": {},
     "output_type": "execute_result"
    }
   ],
   "source": [
    "#len(hough)\n",
    "_ss.shape"
   ]
  },
  {
   "cell_type": "code",
   "execution_count": null,
   "metadata": {},
   "outputs": [],
   "source": []
  }
 ],
 "metadata": {
  "kernelspec": {
   "display_name": "Python 3",
   "language": "python",
   "name": "python3"
  },
  "language_info": {
   "codemirror_mode": {
    "name": "ipython",
    "version": 3
   },
   "file_extension": ".py",
   "mimetype": "text/x-python",
   "name": "python",
   "nbconvert_exporter": "python",
   "pygments_lexer": "ipython3",
   "version": "3.6.7"
  }
 },
 "nbformat": 4,
 "nbformat_minor": 4
}
