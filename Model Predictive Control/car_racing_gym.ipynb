{
 "cells": [
  {
   "cell_type": "code",
   "execution_count": 1,
   "metadata": {},
   "outputs": [],
   "source": [
    "#!pip3 install gym"
   ]
  },
  {
   "cell_type": "code",
   "execution_count": 2,
   "metadata": {},
   "outputs": [],
   "source": [
    "#!pip3 install box2d-py\n",
    "#!pip3 install opencv-python"
   ]
  },
  {
   "cell_type": "code",
   "execution_count": 3,
   "metadata": {},
   "outputs": [],
   "source": [
    "import gym\n",
    "from matplotlib import pyplot as plt\n",
    "import cv2\n",
    "import numpy as np"
   ]
  },
  {
   "cell_type": "code",
   "execution_count": 4,
   "metadata": {},
   "outputs": [],
   "source": [
    "env=gym.make('CarRacing-v0')"
   ]
  },
  {
   "cell_type": "code",
   "execution_count": 5,
   "metadata": {},
   "outputs": [
    {
     "data": {
      "text/plain": [
       "array([0.676074  , 0.31557193, 0.14853512], dtype=float32)"
      ]
     },
     "execution_count": 5,
     "metadata": {},
     "output_type": "execute_result"
    }
   ],
   "source": [
    "env.action_space\n",
    "env.action_space.sample()"
   ]
  },
  {
   "cell_type": "code",
   "execution_count": 6,
   "metadata": {},
   "outputs": [
    {
     "name": "stdout",
     "output_type": "stream",
     "text": [
      "Track generation: 1227..1538 -> 311-tiles track\n"
     ]
    }
   ],
   "source": [
    "%matplotlib tk\n",
    "env.reset()\n",
    "plt.cla()\n",
    "for _ in range(20):\n",
    "    #data=env.render(mode=\"state_pixels\")\n",
    "    nst,rw,ter,info=env.step([0,1,0]) # take a random action\n",
    "    _nst=cv2.rectangle(np.array(nst),(44,80),(52,85),(255,0,0),1)\n",
    "    plt.imshow(_nst)\n",
    "    plt.pause(0.0001)\n",
    "    if ter==True:\n",
    "        break\n",
    "    #plt.show()\n",
    "env.close()"
   ]
  },
  {
   "cell_type": "code",
   "execution_count": 7,
   "metadata": {},
   "outputs": [],
   "source": [
    "env.close()"
   ]
  },
  {
   "cell_type": "code",
   "execution_count": 8,
   "metadata": {},
   "outputs": [
    {
     "ename": "NameError",
     "evalue": "name 'st' is not defined",
     "output_type": "error",
     "traceback": [
      "\u001b[0;31m---------------------------------------------------------------------------\u001b[0m",
      "\u001b[0;31mNameError\u001b[0m                                 Traceback (most recent call last)",
      "\u001b[0;32m<ipython-input-8-316ff4558487>\u001b[0m in \u001b[0;36m<module>\u001b[0;34m\u001b[0m\n\u001b[0;32m----> 1\u001b[0;31m \u001b[0mnst\u001b[0m\u001b[0;34m,\u001b[0m\u001b[0mrw\u001b[0m\u001b[0;34m,\u001b[0m\u001b[0mter\u001b[0m\u001b[0;34m,\u001b[0m\u001b[0minfo\u001b[0m\u001b[0;34m=\u001b[0m\u001b[0mst\u001b[0m\u001b[0;34m\u001b[0m\u001b[0;34m\u001b[0m\u001b[0m\n\u001b[0m",
      "\u001b[0;31mNameError\u001b[0m: name 'st' is not defined"
     ]
    }
   ],
   "source": [
    "nst,rw,ter,info=st"
   ]
  },
  {
   "cell_type": "code",
   "execution_count": 9,
   "metadata": {},
   "outputs": [
    {
     "data": {
      "text/plain": [
       "(96, 96, 3)"
      ]
     },
     "execution_count": 9,
     "metadata": {},
     "output_type": "execute_result"
    }
   ],
   "source": [
    "nst.shape"
   ]
  },
  {
   "cell_type": "code",
   "execution_count": 10,
   "metadata": {},
   "outputs": [
    {
     "data": {
      "text/plain": [
       "<matplotlib.image.AxesImage at 0x7ff5feaa5898>"
      ]
     },
     "execution_count": 10,
     "metadata": {},
     "output_type": "execute_result"
    }
   ],
   "source": [
    "plt.imshow(nst)"
   ]
  },
  {
   "cell_type": "code",
   "execution_count": 11,
   "metadata": {},
   "outputs": [],
   "source": [
    "#https://navoshta.com/detecting-road-features/\n",
    "#https://towardsdatascience.com/tutorial-build-a-lane-detector-679fd8953132\n",
    "#https://towardsdatascience.com/finding-lane-lines-simple-pipeline-for-lane-detection-d02b62e7572b"
   ]
  },
  {
   "cell_type": "code",
   "execution_count": 12,
   "metadata": {},
   "outputs": [],
   "source": [
    "gray = cv2.cvtColor(nst, cv2.COLOR_RGB2GRAY)\n",
    "# Applies a 5x5 gaussian blur with deviation of 0 to frame - not mandatory since Canny will do this for us\n",
    "blur = cv2.GaussianBlur(gray, (5, 5), 0)\n",
    "# Applies Canny edge detector with minVal of 50 and maxVal of 150\n",
    "canny = cv2.Canny(blur, 50, 150)"
   ]
  },
  {
   "cell_type": "code",
   "execution_count": 13,
   "metadata": {},
   "outputs": [
    {
     "data": {
      "text/plain": [
       "<matplotlib.image.AxesImage at 0x7ff5fea802b0>"
      ]
     },
     "execution_count": 13,
     "metadata": {},
     "output_type": "execute_result"
    }
   ],
   "source": [
    "plt.imshow(canny)"
   ]
  },
  {
   "cell_type": "code",
   "execution_count": 14,
   "metadata": {},
   "outputs": [],
   "source": [
    "import cv2 as cv\n",
    "import numpy as np\n",
    "# import matplotlib.pyplot as plt\n",
    "\n",
    "def do_canny(frame):\n",
    "    # Converts frame to grayscale because we only need the luminance channel for detecting edges - less computationally expensive\n",
    "    gray = cv.cvtColor(frame, cv.COLOR_RGB2GRAY)\n",
    "    # Applies a 5x5 gaussian blur with deviation of 0 to frame - not mandatory since Canny will do this for us\n",
    "    blur = cv.GaussianBlur(gray, (5, 5), 0)\n",
    "    # Applies Canny edge detector with minVal of 50 and maxVal of 150\n",
    "    canny = cv.Canny(blur, 50, 150)\n",
    "    return canny\n",
    "\n",
    "def do_segment(frame):\n",
    "    # Since an image is a multi-directional array containing the relative intensities of each pixel in the image, we can use frame.shape to return a tuple: [number of rows, number of columns, number of channels] of the dimensions of the frame\n",
    "    # frame.shape[0] give us the number of rows of pixels the frame has. Since height begins from 0 at the top, the y-coordinate of the bottom of the frame is its height\n",
    "    height = frame.shape[0]\n",
    "    # Creates a triangular polygon for the mask defined by three (x, y) coordinates\n",
    "    polygons = np.array([\n",
    "                            [(0, 80), (96, 80), (0, 0),(96,0)]\n",
    "                        ])\n",
    "    # Creates an image filled with zero intensities with the same dimensions as the frame\n",
    "    mask = np.zeros_like(frame)\n",
    "    # Allows the mask to be filled with values of 1 and the other areas to be filled with values of 0\n",
    "    cv.fillPoly(mask, polygons, 255)\n",
    "    # A bitwise and operation between the mask and frame keeps only the triangular area of the frame\n",
    "    segment = cv.bitwise_and(frame, mask)\n",
    "    return segment\n",
    "\n",
    "def calculate_lines(frame, lines):\n",
    "    # Empty arrays to store the coordinates of the left and right lines\n",
    "    left = []\n",
    "    right = []\n",
    "    # Loops through every detected line\n",
    "    for line in lines:\n",
    "        # Reshapes line from 2D array to 1D array\n",
    "        x1, y1, x2, y2 = line.reshape(4)\n",
    "        # Fits a linear polynomial to the x and y coordinates and returns a vector of coefficients which describe the slope and y-intercept\n",
    "        parameters = np.polyfit((x1, x2), (y1, y2), 1)\n",
    "        slope = parameters[0]\n",
    "        y_intercept = parameters[1]\n",
    "        # If slope is negative, the line is to the left of the lane, and otherwise, the line is to the right of the lane\n",
    "        if slope < 0:\n",
    "            left.append((slope, y_intercept))\n",
    "        else:\n",
    "            right.append((slope, y_intercept))\n",
    "    # Averages out all the values for left and right into a single slope and y-intercept value for each line\n",
    "    left_avg = np.average(left, axis = 0)\n",
    "    right_avg = np.average(right, axis = 0)\n",
    "    # Calculates the x1, y1, x2, y2 coordinates for the left and right lines\n",
    "    left_line = calculate_coordinates(frame, left_avg)\n",
    "    right_line = calculate_coordinates(frame, right_avg)\n",
    "    return np.array([left_line, right_line])\n",
    "\n",
    "def calculate_coordinates(frame, parameters):\n",
    "    slope, intercept = parameters\n",
    "    # Sets initial y-coordinate as height from top down (bottom of the frame)\n",
    "    y1 = frame.shape[0]\n",
    "    # Sets final y-coordinate as 150 above the bottom of the frame\n",
    "    y2 = int(y1 - 150)\n",
    "    # Sets initial x-coordinate as (y1 - b) / m since y1 = mx1 + b\n",
    "    x1 = int((y1 - intercept) / slope)\n",
    "    # Sets final x-coordinate as (y2 - b) / m since y2 = mx2 + b\n",
    "    x2 = int((y2 - intercept) / slope)\n",
    "    return np.array([x1, y1, x2, y2])\n",
    "\n",
    "def visualize_lines(frame, lines):\n",
    "    # Creates an image filled with zero intensities with the same dimensions as the frame\n",
    "    lines_visualize = np.zeros_like(frame)\n",
    "    # Checks if any lines are detected\n",
    "    if lines is not None:\n",
    "        for x1, y1, x2, y2 in lines:\n",
    "            # Draws lines between two coordinates with green color and 5 thickness\n",
    "            cv.line(lines_visualize, (x1, y1), (x2, y2), (0, 255, 0), 5)\n",
    "    return lines_visualize\n",
    "\n",
    "# The video feed is read in as a VideoCapture object\n",
    "\n",
    "'''\n",
    "cap = cv.VideoCapture(\"input.mp4\")\n",
    "while (cap.isOpened()):\n",
    "    # ret = a boolean return value from getting the frame, frame = the current frame being projected in the video\n",
    "    ret, frame = cap.read()\n",
    "    canny = do_canny(frame)\n",
    "    cv.imshow(\"canny\", canny)\n",
    "    # plt.imshow(frame)\n",
    "    # plt.show()\n",
    "    segment = do_segment(canny)\n",
    "    hough = cv.HoughLinesP(segment, 2, np.pi / 180, 100, np.array([]), minLineLength = 100, maxLineGap = 50)\n",
    "    # Averages multiple detected lines from hough into one line for left border of lane and one line for right border of lane\n",
    "    lines = calculate_lines(frame, hough)\n",
    "    # Visualizes the lines\n",
    "    lines_visualize = visualize_lines(frame, lines)\n",
    "    cv.imshow(\"hough\", lines_visualize)\n",
    "    # Overlays lines on frame by taking their weighted sums and adding an arbitrary scalar value of 1 as the gamma argument\n",
    "    output = cv.addWeighted(frame, 0.9, lines_visualize, 1, 1)\n",
    "    # Opens a new window and displays the output frame\n",
    "    cv.imshow(\"output\", output)\n",
    "    # Frames are read by intervals of 10 milliseconds. The programs breaks out of the while loop when the user presses the 'q' key\n",
    "    if cv.waitKey(10) & 0xFF == ord('q'):\n",
    "        break\n",
    "# The following frees up resources and closes all windows\n",
    "cap.release()\n",
    "cv.destroyAllWindows()\n",
    "'''\n",
    "#...\n",
    "a=10"
   ]
  },
  {
   "cell_type": "code",
   "execution_count": 56,
   "metadata": {},
   "outputs": [
    {
     "data": {
      "text/plain": [
       "<matplotlib.image.AxesImage at 0x7ff5f67ec160>"
      ]
     },
     "execution_count": 56,
     "metadata": {},
     "output_type": "execute_result"
    }
   ],
   "source": [
    "canny = do_canny(nst)\n",
    "segment = do_segment(canny)\n",
    "hough = cv2.HoughLinesP(segment, 10, np.pi / 180, 1, np.array([]), minLineLength = 5, maxLineGap = 20)\n",
    "#lines = calculate_lines(nst, hough)\n",
    "#lines_visualize = visualize_lines(nst, lines)\n",
    "plt.imshow(segment)"
   ]
  },
  {
   "cell_type": "code",
   "execution_count": 57,
   "metadata": {},
   "outputs": [],
   "source": [
    "# Draw the lines\n",
    "if hough is not None:\n",
    "        for i in range(0, len(hough)):\n",
    "            l = hough[i][0]\n",
    "            _ss=cv2.line(segment, (l[0], l[1]), (l[2], l[3]), (255,255,255), 3, cv.LINE_AA)"
   ]
  },
  {
   "cell_type": "code",
   "execution_count": 58,
   "metadata": {},
   "outputs": [
    {
     "data": {
      "text/plain": [
       "<matplotlib.image.AxesImage at 0x7ff5f673f128>"
      ]
     },
     "execution_count": 58,
     "metadata": {},
     "output_type": "execute_result"
    }
   ],
   "source": [
    "plt.imshow(_ss)"
   ]
  },
  {
   "cell_type": "code",
   "execution_count": 45,
   "metadata": {},
   "outputs": [
    {
     "data": {
      "text/plain": [
       "array([[[44, 52, 44, 10]],\n",
       "\n",
       "       [[52, 80, 52, 20]],\n",
       "\n",
       "       [[43, 67, 43, 10]],\n",
       "\n",
       "       [[42, 80, 42,  9]],\n",
       "\n",
       "       [[20,  9, 53, 27]],\n",
       "\n",
       "       [[33, 17, 34,  4]],\n",
       "\n",
       "       [[28, 13, 35,  5]],\n",
       "\n",
       "       [[37, 19, 37,  6]],\n",
       "\n",
       "       [[15,  6, 50, 16]],\n",
       "\n",
       "       [[51, 19, 51, 17]],\n",
       "\n",
       "       [[40,  9, 41,  9]],\n",
       "\n",
       "       [[ 8,  2,  8,  0]],\n",
       "\n",
       "       [[45, 12, 45, 11]],\n",
       "\n",
       "       [[40, 22, 40,  8]],\n",
       "\n",
       "       [[53, 56, 53, 24]],\n",
       "\n",
       "       [[23, 10, 48, 14]],\n",
       "\n",
       "       [[41, 22, 47, 13]],\n",
       "\n",
       "       [[46, 13, 46, 12]],\n",
       "\n",
       "       [[30, 14, 30,  2]],\n",
       "\n",
       "       [[29,  2, 29,  1]],\n",
       "\n",
       "       [[26, 12, 28,  1]],\n",
       "\n",
       "       [[12,  4, 13,  4]],\n",
       "\n",
       "       [[14,  5, 15,  5]],\n",
       "\n",
       "       [[14,  4, 39,  7]],\n",
       "\n",
       "       [[31,  3, 33,  3]]], dtype=int32)"
      ]
     },
     "execution_count": 45,
     "metadata": {},
     "output_type": "execute_result"
    }
   ],
   "source": [
    "len(hough"
   ]
  },
  {
   "cell_type": "code",
   "execution_count": null,
   "metadata": {},
   "outputs": [],
   "source": []
  }
 ],
 "metadata": {
  "kernelspec": {
   "display_name": "Python 3",
   "language": "python",
   "name": "python3"
  },
  "language_info": {
   "codemirror_mode": {
    "name": "ipython",
    "version": 3
   },
   "file_extension": ".py",
   "mimetype": "text/x-python",
   "name": "python",
   "nbconvert_exporter": "python",
   "pygments_lexer": "ipython3",
   "version": "3.6.7"
  }
 },
 "nbformat": 4,
 "nbformat_minor": 4
}
